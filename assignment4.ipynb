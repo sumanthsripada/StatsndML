{
 "cells": [
  {
   "cell_type": "markdown",
   "metadata": {},
   "source": [
    "# ASSIGNMENT 4"
   ]
  },
  {
   "cell_type": "markdown",
   "metadata": {},
   "source": [
    "Chap.8 - Exercise 3  \n",
    "\n",
    "Consider the Gini index, classification error, and entropy in a\n",
    "simple classification setting with two classes. Create a single plot\n",
    "that displays each of these quantities as a function of ˆpm1. The xaxis\n",
    "should display ˆpm1, ranging from 0 to 1, and the y-axis should\n",
    "display the value of the Gini index, classification error, and entropy."
   ]
  },
  {
   "cell_type": "code",
   "execution_count": 84,
   "metadata": {},
   "outputs": [
    {
     "name": "stdout",
     "output_type": "stream",
     "text": [
      "\n",
      "  There is a binary version available but the source version is later:\n",
      "     binary source needs_compilation\n",
      "ISLR    1.2    1.4             FALSE\n",
      "\n"
     ]
    },
    {
     "name": "stderr",
     "output_type": "stream",
     "text": [
      "installing the source package 'ISLR'\n",
      "\n",
      "\n"
     ]
    },
    {
     "name": "stdout",
     "output_type": "stream",
     "text": [
      "\n",
      "  There is a binary version available but the source version is later:\n",
      "     binary source needs_compilation\n",
      "tree 1.0-40 1.0-41              TRUE\n",
      "\n",
      "  Binaries will be installed\n"
     ]
    },
    {
     "name": "stderr",
     "output_type": "stream",
     "text": [
      "Warning message:\n",
      "\"package 'tree' is in use and will not be installed\"\n",
      "The following objects are masked from Carseats (pos = 8):\n",
      "\n",
      "    Advertising, Age, CompPrice, Education, Income, Population, Price,\n",
      "    Sales, ShelveLoc, Urban, US\n",
      "\n",
      "\n",
      "Warning message:\n",
      "\"package 'gbm' is in use and will not be installed\"\n"
     ]
    }
   ],
   "source": [
    "install.packages(\"ISLR\")\n",
    "install.packages(\"tree\")\n",
    "library(tree)\n",
    "library(ISLR)\n",
    "attach(Carseats)\n",
    "library(randomForest)\n",
    "library(dplyr)\n",
    "library(ggplot2)\n",
    "install.packages(\"gbm\")\n",
    "library(gbm)"
   ]
  },
  {
   "cell_type": "code",
   "execution_count": 4,
   "metadata": {},
   "outputs": [
    {
     "data": {
      "text/plain": [
       "NULL"
      ]
     },
     "metadata": {},
     "output_type": "display_data"
    },
    {
     "data": {
      "image/png": "[encoded data removed]",
      "text/plain": [
       "plot without title"
      ]
     },
     "metadata": {
      "image/png": {
       "height": 420,
       "width": 420
      }
     },
     "output_type": "display_data"
    }
   ],
   "source": [
    "p = seq(0,1,0.02)\n",
    "gi = p*(1-p)*2\n",
    "err = 1 - pmax(p,1-p)\n",
    "entropy = -((p*log(p)) + (1-p)*log(1-p))\n",
    "t = cbind(gi,err,entropy)\n",
    "\n",
    "#plot \n",
    "plot  = matplot(p,t, col=c(\"red\",\"orange\",\"green\"))\n",
    "plot"
   ]
  },
  {
   "cell_type": "markdown",
   "metadata": {},
   "source": [
    "Exercise - 5\n",
    "\n",
    "Suppose we produce ten bootstrapped samples from a data set\n",
    "containing red and green classes. We then apply a classification tree\n",
    "to each bootstrapped sample and, for a specific value of X, produce\n",
    "10 estimates of P(Class is Red|X):\n",
    "0.1, 0.15, 0.2, 0.2, 0.55, 0.6, 0.6, 0.65, 0.7, and 0.75"
   ]
  },
  {
   "cell_type": "markdown",
   "metadata": {},
   "source": [
    "- Classified as RED under Majority Approach\n",
    "- Classified as GREEN under Avg Approach"
   ]
  },
  {
   "cell_type": "code",
   "execution_count": 5,
   "metadata": {},
   "outputs": [
    {
     "data": {
      "text/html": [
       "TRUE"
      ],
      "text/latex": [
       "TRUE"
      ],
      "text/markdown": [
       "TRUE"
      ],
      "text/plain": [
       "[1] TRUE"
      ]
     },
     "metadata": {},
     "output_type": "display_data"
    },
    {
     "data": {
      "text/html": [
       "0.433333333333333"
      ],
      "text/latex": [
       "0.433333333333333"
      ],
      "text/markdown": [
       "0.433333333333333"
      ],
      "text/plain": [
       "[1] 0.4333333"
      ]
     },
     "metadata": {},
     "output_type": "display_data"
    }
   ],
   "source": [
    "p = c(0.1,0.15,0.2,0.2,0.55,0.6,0.65,0.7,0.75)\n",
    "\n",
    "#Majority\n",
    "sum(p >= 0.5) > sum(p < 0.5)\n",
    "#Average \n",
    "mean(p)"
   ]
  },
  {
   "cell_type": "markdown",
   "metadata": {},
   "source": [
    "Exercise 8\n",
    "In the lab, a classification tree was applied to the Carseats data set after\n",
    "converting Sales into a qualitative response variable. Now we will\n",
    "seek to predict Sales using regression trees and related approaches,\n",
    "treating the response as a quantitative variable."
   ]
  },
  {
   "cell_type": "markdown",
   "metadata": {},
   "source": [
    "(a) Split the data set into a training set and a test set."
   ]
  },
  {
   "cell_type": "code",
   "execution_count": 9,
   "metadata": {},
   "outputs": [],
   "source": [
    "set.seed(50)\n",
    "split = sample(dim(Carseats)[1],dim(Carseats)[1]/2)\n",
    "train = Carseats[split,]\n",
    "test = Carseats[-split,]"
   ]
  },
  {
   "cell_type": "markdown",
   "metadata": {},
   "source": [
    "(b) Fit a regression tree to the training set. Plot the tree, and interpret\n",
    "the results. What test MSE do you obtain?"
   ]
  },
  {
   "cell_type": "code",
   "execution_count": 11,
   "metadata": {},
   "outputs": [
    {
     "name": "stderr",
     "output_type": "stream",
     "text": [
      "Warning message:\n",
      "\"package 'tree' was built under R version 3.6.3\"\n"
     ]
    },
    {
     "data": {
      "image/png": "[encoded data removed]",
      "text/plain": [
       "plot without title"
      ]
     },
     "metadata": {
      "image/png": {
       "height": 420,
       "width": 420
      }
     },
     "output_type": "display_data"
    }
   ],
   "source": [
    "model_tree <- tree(Sales ~ ., train)\n",
    "\n",
    "plot(model_tree)\n",
    "text(model_tree)"
   ]
  },
  {
   "cell_type": "code",
   "execution_count": 12,
   "metadata": {},
   "outputs": [
    {
     "data": {
      "text/html": [
       "4.98785512698695"
      ],
      "text/latex": [
       "4.98785512698695"
      ],
      "text/markdown": [
       "4.98785512698695"
      ],
      "text/plain": [
       "[1] 4.987855"
      ]
     },
     "metadata": {},
     "output_type": "display_data"
    }
   ],
   "source": [
    "#RMSE test\n",
    "prediction = predict(model_tree, test)\n",
    "mean((test$Sales - prediction)^2)"
   ]
  },
  {
   "cell_type": "markdown",
   "metadata": {},
   "source": [
    "(c) Use cross-validation in order to determine the optimal level of\n",
    "tree complexity. Does pruning the tree improve the test MSE?"
   ]
  },
  {
   "cell_type": "code",
   "execution_count": 13,
   "metadata": {},
   "outputs": [
    {
     "data": {
      "image/png": "[encoded data removed]",
      "text/plain": [
       "plot without title"
      ]
     },
     "metadata": {
      "image/png": {
       "height": 420,
       "width": 420
      }
     },
     "output_type": "display_data"
    }
   ],
   "source": [
    "#Cross Validation\n",
    "cv = cv.tree(model_tree, FUN = prune.tree)\n",
    "\n",
    "plot(cv$size, cv$dev, type = \"b\")"
   ]
  },
  {
   "cell_type": "code",
   "execution_count": 14,
   "metadata": {},
   "outputs": [
    {
     "data": {
      "image/png": "[encoded data removed]",
      "text/plain": [
       "plot without title"
      ]
     },
     "metadata": {
      "image/png": {
       "height": 420,
       "width": 420
      }
     },
     "output_type": "display_data"
    }
   ],
   "source": [
    "pruning = prune.tree(model_tree, best = 14)\n",
    "plot(pruning)\n",
    "text(pruning, pretty = 1)"
   ]
  },
  {
   "cell_type": "markdown",
   "metadata": {},
   "source": [
    "- Pruning decreased the RMSE"
   ]
  },
  {
   "cell_type": "code",
   "execution_count": 15,
   "metadata": {},
   "outputs": [
    {
     "data": {
      "text/html": [
       "5.40898080915497"
      ],
      "text/latex": [
       "5.40898080915497"
      ],
      "text/markdown": [
       "5.40898080915497"
      ],
      "text/plain": [
       "[1] 5.408981"
      ]
     },
     "metadata": {},
     "output_type": "display_data"
    }
   ],
   "source": [
    "prediction_pruning = predict(pruning, test)\n",
    "mean((test$Sales - prediction_pruning)^2)"
   ]
  },
  {
   "cell_type": "markdown",
   "metadata": {},
   "source": [
    "(d) Use the bagging approach in order to analyze this data. What\n",
    "test MSE do you obtain? Use the importance() function to determine\n",
    "which variables are most important."
   ]
  },
  {
   "cell_type": "code",
   "execution_count": 23,
   "metadata": {},
   "outputs": [],
   "source": [
    "car = randomForest(Sales ~ ., data = train, mtry = 10, ntree = 500,importance = T)"
   ]
  },
  {
   "cell_type": "code",
   "execution_count": 25,
   "metadata": {},
   "outputs": [
    {
     "data": {
      "text/html": [
       "3.19896562541887"
      ],
      "text/latex": [
       "3.19896562541887"
      ],
      "text/markdown": [
       "3.19896562541887"
      ],
      "text/plain": [
       "[1] 3.198966"
      ]
     },
     "metadata": {},
     "output_type": "display_data"
    }
   ],
   "source": [
    "prediction_car = predict(car, test)\n",
    "mean((test$Sales - prediction_car)^2)"
   ]
  },
  {
   "cell_type": "code",
   "execution_count": 26,
   "metadata": {},
   "outputs": [
    {
     "data": {
      "text/html": [
       "<table>\n",
       "<thead><tr><th></th><th scope=col>%IncMSE</th><th scope=col>IncNodePurity</th></tr></thead>\n",
       "<tbody>\n",
       "\t<tr><th scope=row>CompPrice</th><td>16.1416110</td><td>109.617256</td></tr>\n",
       "\t<tr><th scope=row>Income</th><td> 9.5070660</td><td> 95.608449</td></tr>\n",
       "\t<tr><th scope=row>Advertising</th><td>16.5783030</td><td>107.260650</td></tr>\n",
       "\t<tr><th scope=row>Population</th><td> 1.0607246</td><td> 47.754983</td></tr>\n",
       "\t<tr><th scope=row>Price</th><td>49.3659179</td><td>418.443513</td></tr>\n",
       "\t<tr><th scope=row>ShelveLoc</th><td>63.2183623</td><td>535.407096</td></tr>\n",
       "\t<tr><th scope=row>Age</th><td>23.1159494</td><td>192.275150</td></tr>\n",
       "\t<tr><th scope=row>Education</th><td> 2.0692465</td><td> 43.940009</td></tr>\n",
       "\t<tr><th scope=row>Urban</th><td>-0.5195383</td><td>  5.712167</td></tr>\n",
       "\t<tr><th scope=row>US</th><td> 0.1196505</td><td>  5.025048</td></tr>\n",
       "</tbody>\n",
       "</table>\n"
      ],
      "text/latex": [
       "\\begin{tabular}{r|ll}\n",
       "  & \\%IncMSE & IncNodePurity\\\\\n",
       "\\hline\n",
       "\tCompPrice & 16.1416110 & 109.617256\\\\\n",
       "\tIncome &  9.5070660 &  95.608449\\\\\n",
       "\tAdvertising & 16.5783030 & 107.260650\\\\\n",
       "\tPopulation &  1.0607246 &  47.754983\\\\\n",
       "\tPrice & 49.3659179 & 418.443513\\\\\n",
       "\tShelveLoc & 63.2183623 & 535.407096\\\\\n",
       "\tAge & 23.1159494 & 192.275150\\\\\n",
       "\tEducation &  2.0692465 &  43.940009\\\\\n",
       "\tUrban & -0.5195383 &   5.712167\\\\\n",
       "\tUS &  0.1196505 &   5.025048\\\\\n",
       "\\end{tabular}\n"
      ],
      "text/markdown": [
       "\n",
       "| <!--/--> | %IncMSE | IncNodePurity |\n",
       "|---|---|---|\n",
       "| CompPrice | 16.1416110 | 109.617256 |\n",
       "| Income |  9.5070660 |  95.608449 |\n",
       "| Advertising | 16.5783030 | 107.260650 |\n",
       "| Population |  1.0607246 |  47.754983 |\n",
       "| Price | 49.3659179 | 418.443513 |\n",
       "| ShelveLoc | 63.2183623 | 535.407096 |\n",
       "| Age | 23.1159494 | 192.275150 |\n",
       "| Education |  2.0692465 |  43.940009 |\n",
       "| Urban | -0.5195383 |   5.712167 |\n",
       "| US |  0.1196505 |   5.025048 |\n",
       "\n"
      ],
      "text/plain": [
       "            %IncMSE    IncNodePurity\n",
       "CompPrice   16.1416110 109.617256   \n",
       "Income       9.5070660  95.608449   \n",
       "Advertising 16.5783030 107.260650   \n",
       "Population   1.0607246  47.754983   \n",
       "Price       49.3659179 418.443513   \n",
       "ShelveLoc   63.2183623 535.407096   \n",
       "Age         23.1159494 192.275150   \n",
       "Education    2.0692465  43.940009   \n",
       "Urban       -0.5195383   5.712167   \n",
       "US           0.1196505   5.025048   "
      ]
     },
     "metadata": {},
     "output_type": "display_data"
    }
   ],
   "source": [
    "importance(car)"
   ]
  },
  {
   "cell_type": "code",
   "execution_count": 28,
   "metadata": {},
   "outputs": [],
   "source": [
    "#E\n",
    "rf.car = randomForest(Sales ~ ., data = train, mtry = 5, importance = T)"
   ]
  },
  {
   "cell_type": "code",
   "execution_count": 30,
   "metadata": {},
   "outputs": [
    {
     "data": {
      "text/html": [
       "3.33667020700902"
      ],
      "text/latex": [
       "3.33667020700902"
      ],
      "text/markdown": [
       "3.33667020700902"
      ],
      "text/plain": [
       "[1] 3.33667"
      ]
     },
     "metadata": {},
     "output_type": "display_data"
    }
   ],
   "source": [
    "rf.pred = predict(rf.car, test)\n",
    "mean((test$Sales - rf.pred)^2)"
   ]
  },
  {
   "cell_type": "code",
   "execution_count": 31,
   "metadata": {},
   "outputs": [
    {
     "data": {
      "text/html": [
       "<table>\n",
       "<thead><tr><th></th><th scope=col>%IncMSE</th><th scope=col>IncNodePurity</th></tr></thead>\n",
       "<tbody>\n",
       "\t<tr><th scope=row>CompPrice</th><td>12.7664641</td><td>109.345730</td></tr>\n",
       "\t<tr><th scope=row>Income</th><td> 6.0961558</td><td> 99.014301</td></tr>\n",
       "\t<tr><th scope=row>Advertising</th><td>16.1306592</td><td>131.418092</td></tr>\n",
       "\t<tr><th scope=row>Population</th><td> 0.4388738</td><td> 73.294827</td></tr>\n",
       "\t<tr><th scope=row>Price</th><td>40.8063488</td><td>392.744472</td></tr>\n",
       "\t<tr><th scope=row>ShelveLoc</th><td>52.6754249</td><td>441.187458</td></tr>\n",
       "\t<tr><th scope=row>Age</th><td>20.1254967</td><td>201.152577</td></tr>\n",
       "\t<tr><th scope=row>Education</th><td> 2.2314799</td><td> 56.279970</td></tr>\n",
       "\t<tr><th scope=row>Urban</th><td>-1.2605914</td><td>  8.885945</td></tr>\n",
       "\t<tr><th scope=row>US</th><td> 3.2663597</td><td> 15.236938</td></tr>\n",
       "</tbody>\n",
       "</table>\n"
      ],
      "text/latex": [
       "\\begin{tabular}{r|ll}\n",
       "  & \\%IncMSE & IncNodePurity\\\\\n",
       "\\hline\n",
       "\tCompPrice & 12.7664641 & 109.345730\\\\\n",
       "\tIncome &  6.0961558 &  99.014301\\\\\n",
       "\tAdvertising & 16.1306592 & 131.418092\\\\\n",
       "\tPopulation &  0.4388738 &  73.294827\\\\\n",
       "\tPrice & 40.8063488 & 392.744472\\\\\n",
       "\tShelveLoc & 52.6754249 & 441.187458\\\\\n",
       "\tAge & 20.1254967 & 201.152577\\\\\n",
       "\tEducation &  2.2314799 &  56.279970\\\\\n",
       "\tUrban & -1.2605914 &   8.885945\\\\\n",
       "\tUS &  3.2663597 &  15.236938\\\\\n",
       "\\end{tabular}\n"
      ],
      "text/markdown": [
       "\n",
       "| <!--/--> | %IncMSE | IncNodePurity |\n",
       "|---|---|---|\n",
       "| CompPrice | 12.7664641 | 109.345730 |\n",
       "| Income |  6.0961558 |  99.014301 |\n",
       "| Advertising | 16.1306592 | 131.418092 |\n",
       "| Population |  0.4388738 |  73.294827 |\n",
       "| Price | 40.8063488 | 392.744472 |\n",
       "| ShelveLoc | 52.6754249 | 441.187458 |\n",
       "| Age | 20.1254967 | 201.152577 |\n",
       "| Education |  2.2314799 |  56.279970 |\n",
       "| Urban | -1.2605914 |   8.885945 |\n",
       "| US |  3.2663597 |  15.236938 |\n",
       "\n"
      ],
      "text/plain": [
       "            %IncMSE    IncNodePurity\n",
       "CompPrice   12.7664641 109.345730   \n",
       "Income       6.0961558  99.014301   \n",
       "Advertising 16.1306592 131.418092   \n",
       "Population   0.4388738  73.294827   \n",
       "Price       40.8063488 392.744472   \n",
       "ShelveLoc   52.6754249 441.187458   \n",
       "Age         20.1254967 201.152577   \n",
       "Education    2.2314799  56.279970   \n",
       "Urban       -1.2605914   8.885945   \n",
       "US           3.2663597  15.236938   "
      ]
     },
     "metadata": {},
     "output_type": "display_data"
    }
   ],
   "source": [
    "importance(rf.car)"
   ]
  },
  {
   "cell_type": "markdown",
   "metadata": {},
   "source": [
    "Exercise - 9"
   ]
  },
  {
   "cell_type": "code",
   "execution_count": 32,
   "metadata": {},
   "outputs": [],
   "source": [
    "library(ISLR)\n",
    "attach(OJ)"
   ]
  },
  {
   "cell_type": "markdown",
   "metadata": {},
   "source": [
    "(a) Create a training set containing a random sample of 800 observations,\n",
    "and a test set containing the remaining observations."
   ]
  },
  {
   "cell_type": "code",
   "execution_count": 72,
   "metadata": {},
   "outputs": [],
   "source": [
    "set.seed(50)\n",
    "split= sample(dim(OJ)[1],800)\n",
    "train = OJ[split,]\n",
    "test = OJ[-split,] # nolint"
   ]
  },
  {
   "cell_type": "markdown",
   "metadata": {},
   "source": [
    "(b) Fit a tree to the training data, with Purchase as the response\n",
    "and the other variables as predictors. Use the summary() function\n",
    "to produce summary statistics about the tree, and describe the\n",
    "results obtained. What is the training error rate? How many\n",
    "terminal nodes does the tree have?"
   ]
  },
  {
   "cell_type": "code",
   "execution_count": 74,
   "metadata": {},
   "outputs": [
    {
     "data": {
      "text/plain": [
       "\n",
       "Classification tree:\n",
       "tree(formula = Purchase ~ ., data = train)\n",
       "Variables actually used in tree construction:\n",
       "[1] \"LoyalCH\"       \"PriceDiff\"     \"SalePriceMM\"   \"ListPriceDiff\"\n",
       "Number of terminal nodes:  9 \n",
       "Residual mean deviance:  0.7059 = 558.3 / 791 \n",
       "Misclassification error rate: 0.1475 = 118 / 800 "
      ]
     },
     "metadata": {},
     "output_type": "display_data"
    }
   ],
   "source": [
    "library(tree)\n",
    "model_tree = tree(Purchase ~ ., train)\n",
    "summary(model_tree)"
   ]
  },
  {
   "cell_type": "markdown",
   "metadata": {},
   "source": [
    "(d) Create a plot of the tree, and interpret the results"
   ]
  },
  {
   "cell_type": "code",
   "execution_count": 76,
   "metadata": {},
   "outputs": [
    {
     "data": {
      "image/png": "[encoded data removed]",
      "text/plain": [
       "plot without title"
      ]
     },
     "metadata": {
      "image/png": {
       "height": 420,
       "width": 420
      }
     },
     "output_type": "display_data"
    }
   ],
   "source": [
    "#Plotting the tree\n",
    "plot(model_tree)\n",
    "text(model_tree, pretty=0)"
   ]
  },
  {
   "cell_type": "markdown",
   "metadata": {},
   "source": [
    "(e) Predict the response on the test data, and produce a confusion\n",
    "matrix comparing the test labels to the predicted test labels.\n",
    "What is the test error rate?"
   ]
  },
  {
   "cell_type": "code",
   "execution_count": 79,
   "metadata": {},
   "outputs": [
    {
     "data": {
      "text/plain": [
       "    pred_tree\n",
       "      CH  MM\n",
       "  CH 147  18\n",
       "  MM  36  69"
      ]
     },
     "metadata": {},
     "output_type": "display_data"
    }
   ],
   "source": [
    "#Prediction\n",
    "pred_tree = predict(model_tree, test, type = \"class\")\n",
    "\n",
    "#Confusion Matrix\n",
    "table(test$Purchase, pred_tree)"
   ]
  },
  {
   "cell_type": "markdown",
   "metadata": {},
   "source": [
    "(f) Apply the cv.tree() function to the training set in order to\n",
    "determine the optimal tree size."
   ]
  },
  {
   "cell_type": "code",
   "execution_count": 80,
   "metadata": {},
   "outputs": [],
   "source": [
    "cv.oj = cv.tree(model_tree, FUN = prune.tree)"
   ]
  },
  {
   "cell_type": "markdown",
   "metadata": {},
   "source": [
    "(g) Produce a plot with tree size on the x-axis and cross-validated\n",
    "classification error rate on the y-axis."
   ]
  },
  {
   "cell_type": "code",
   "execution_count": 81,
   "metadata": {},
   "outputs": [
    {
     "data": {
      "image/png": "[encoded data removed]",
      "text/plain": [
       "plot without title"
      ]
     },
     "metadata": {
      "image/png": {
       "height": 420,
       "width": 420
      }
     },
     "output_type": "display_data"
    }
   ],
   "source": [
    "plot(cv.oj$size, cv.oj$dev, type = \"b\", xlab = \"Tree Size\")"
   ]
  },
  {
   "cell_type": "markdown",
   "metadata": {},
   "source": [
    "h (i) Produce a pruned tree corresponding to the optimal tree size\n",
    "obtained using cross-validation. If cross-validation does not lead\n",
    "to selection of a pruned tree, then create a pruned tree with five\n",
    "terminal nodes."
   ]
  },
  {
   "cell_type": "code",
   "execution_count": 83,
   "metadata": {},
   "outputs": [
    {
     "data": {
      "image/png": "[encoded data removed]",
      "text/plain": [
       "plot without title"
      ]
     },
     "metadata": {
      "image/png": {
       "height": 420,
       "width": 420
      }
     },
     "output_type": "display_data"
    }
   ],
   "source": [
    "\n",
    "pruned_tree <- prune.misclass(model_tree, best = 5)\n",
    "plot(pruned_tree)\n",
    "text(pruned_tree)"
   ]
  },
  {
   "cell_type": "markdown",
   "metadata": {},
   "source": [
    "Exercise 10"
   ]
  },
  {
   "cell_type": "code",
   "execution_count": 41,
   "metadata": {},
   "outputs": [
    {
     "name": "stderr",
     "output_type": "stream",
     "text": [
      "Warning message in rm(\"Hitters\"):\n",
      "\"object 'Hitters' not found\"\n"
     ]
    }
   ],
   "source": [
    "rm(\"Hitters\")"
   ]
  },
  {
   "cell_type": "markdown",
   "metadata": {},
   "source": [
    "(a) Remove the observations for whom the salary information is\n",
    "unknown, and then log-transform the salaries."
   ]
  },
  {
   "cell_type": "code",
   "execution_count": 52,
   "metadata": {},
   "outputs": [],
   "source": [
    "hitter_data = Hitters[-which(is.na(Hitters$Salary)),]"
   ]
  },
  {
   "cell_type": "markdown",
   "metadata": {},
   "source": [
    "(b) Create a training set consisting of the first 200 observations, and\n",
    "a test set consisting of the remaining observations."
   ]
  },
  {
   "cell_type": "code",
   "execution_count": 53,
   "metadata": {},
   "outputs": [],
   "source": [
    "split = 1:200\n",
    "train = hitter_data[split,]\n",
    "test=hitter_data[-split,]"
   ]
  },
  {
   "cell_type": "markdown",
   "metadata": {},
   "source": [
    "(c) Perform boosting on the training set with 1,000 trees for a range\n",
    "of values of the shrinkage parameter λ. Produce a plot with\n",
    "different shrinkage values on the x-axis and the corresponding\n",
    "training set MSE on the y-axis."
   ]
  },
  {
   "cell_type": "code",
   "execution_count": 59,
   "metadata": {},
   "outputs": [
    {
     "name": "stderr",
     "output_type": "stream",
     "text": [
      "Warning message:\n",
      "\"package 'gbm' is in use and will not be installed\"\n"
     ]
    }
   ],
   "source": [
    "\n",
    "lambda = seq(0.01, 0.5, by = 0.01)\n",
    "length = length(lambda)\n",
    "train_errors = rep(NA, length)\n",
    "test_errors = rep(NA, length)\n",
    "for (i in 1:length) {\n",
    "    boost.hitters = gbm(Salary ~ .,train, distribution = \"gaussian\",n.trees = 1000, shrinkage = lambda[i])\n",
    "    pred_train = predict(boost.hitters, train, n.trees = 1000)\n",
    "    pred_test = predict(boost.hitters, test, n.trees = 1000)\n",
    "    train_errors[i] = mean((train$Salary - pred_train)^2)\n",
    "    test_errors[i] = mean((test$Salary - pred_test)^2)\n",
    "}"
   ]
  },
  {
   "cell_type": "markdown",
   "metadata": {},
   "source": [
    "(d) Produce a plot with different shrinkage values on the x-axis and\n",
    "the corresponding test set MSE on the y-axis."
   ]
  },
  {
   "cell_type": "code",
   "execution_count": 62,
   "metadata": {},
   "outputs": [
    {
     "data": {
      "image/png": "[encoded data removed]",
      "text/plain": [
       "plot without title"
      ]
     },
     "metadata": {
      "image/png": {
       "height": 420,
       "width": 420
      }
     },
     "output_type": "display_data"
    }
   ],
   "source": [
    "plot(lambda, test_errors, type = \"b\", xlab = \"Shrinkage Values\", ylab = \"Test MSE\",col = \"red\")"
   ]
  },
  {
   "cell_type": "code",
   "execution_count": 66,
   "metadata": {},
   "outputs": [
    {
     "data": {
      "text/html": [
       "<table>\n",
       "<thead><tr><th></th><th scope=col>var</th><th scope=col>rel.inf</th></tr></thead>\n",
       "<tbody>\n",
       "\t<tr><th scope=row>CHmRun</th><td>CHmRun     </td><td>17.74646366</td></tr>\n",
       "\t<tr><th scope=row>Walks</th><td>Walks      </td><td>11.73014391</td></tr>\n",
       "\t<tr><th scope=row>Hits</th><td>Hits       </td><td> 9.42781277</td></tr>\n",
       "\t<tr><th scope=row>CAtBat</th><td>CAtBat     </td><td> 8.66215137</td></tr>\n",
       "\t<tr><th scope=row>Years</th><td>Years      </td><td> 7.68237445</td></tr>\n",
       "\t<tr><th scope=row>CWalks</th><td>CWalks     </td><td> 6.02158585</td></tr>\n",
       "\t<tr><th scope=row>CRBI</th><td>CRBI       </td><td> 5.99037520</td></tr>\n",
       "\t<tr><th scope=row>CRuns</th><td>CRuns      </td><td> 5.98970329</td></tr>\n",
       "\t<tr><th scope=row>PutOuts</th><td>PutOuts    </td><td> 5.38157788</td></tr>\n",
       "\t<tr><th scope=row>CHits</th><td>CHits      </td><td> 4.39019408</td></tr>\n",
       "\t<tr><th scope=row>AtBat</th><td>AtBat      </td><td> 4.14634331</td></tr>\n",
       "\t<tr><th scope=row>RBI</th><td>RBI        </td><td> 4.05810636</td></tr>\n",
       "\t<tr><th scope=row>HmRun</th><td>HmRun      </td><td> 2.28231836</td></tr>\n",
       "\t<tr><th scope=row>Division</th><td>Division   </td><td> 1.89811287</td></tr>\n",
       "\t<tr><th scope=row>Runs</th><td>Runs       </td><td> 1.88240069</td></tr>\n",
       "\t<tr><th scope=row>Errors</th><td>Errors     </td><td> 1.18872525</td></tr>\n",
       "\t<tr><th scope=row>Assists</th><td>Assists    </td><td> 1.13191331</td></tr>\n",
       "\t<tr><th scope=row>League</th><td>League     </td><td> 0.29581199</td></tr>\n",
       "\t<tr><th scope=row>NewLeague</th><td>NewLeague  </td><td> 0.09388541</td></tr>\n",
       "</tbody>\n",
       "</table>\n"
      ],
      "text/latex": [
       "\\begin{tabular}{r|ll}\n",
       "  & var & rel.inf\\\\\n",
       "\\hline\n",
       "\tCHmRun & CHmRun      & 17.74646366\\\\\n",
       "\tWalks & Walks       & 11.73014391\\\\\n",
       "\tHits & Hits        &  9.42781277\\\\\n",
       "\tCAtBat & CAtBat      &  8.66215137\\\\\n",
       "\tYears & Years       &  7.68237445\\\\\n",
       "\tCWalks & CWalks      &  6.02158585\\\\\n",
       "\tCRBI & CRBI        &  5.99037520\\\\\n",
       "\tCRuns & CRuns       &  5.98970329\\\\\n",
       "\tPutOuts & PutOuts     &  5.38157788\\\\\n",
       "\tCHits & CHits       &  4.39019408\\\\\n",
       "\tAtBat & AtBat       &  4.14634331\\\\\n",
       "\tRBI & RBI         &  4.05810636\\\\\n",
       "\tHmRun & HmRun       &  2.28231836\\\\\n",
       "\tDivision & Division    &  1.89811287\\\\\n",
       "\tRuns & Runs        &  1.88240069\\\\\n",
       "\tErrors & Errors      &  1.18872525\\\\\n",
       "\tAssists & Assists     &  1.13191331\\\\\n",
       "\tLeague & League      &  0.29581199\\\\\n",
       "\tNewLeague & NewLeague   &  0.09388541\\\\\n",
       "\\end{tabular}\n"
      ],
      "text/markdown": [
       "\n",
       "| <!--/--> | var | rel.inf |\n",
       "|---|---|---|\n",
       "| CHmRun | CHmRun      | 17.74646366 |\n",
       "| Walks | Walks       | 11.73014391 |\n",
       "| Hits | Hits        |  9.42781277 |\n",
       "| CAtBat | CAtBat      |  8.66215137 |\n",
       "| Years | Years       |  7.68237445 |\n",
       "| CWalks | CWalks      |  6.02158585 |\n",
       "| CRBI | CRBI        |  5.99037520 |\n",
       "| CRuns | CRuns       |  5.98970329 |\n",
       "| PutOuts | PutOuts     |  5.38157788 |\n",
       "| CHits | CHits       |  4.39019408 |\n",
       "| AtBat | AtBat       |  4.14634331 |\n",
       "| RBI | RBI         |  4.05810636 |\n",
       "| HmRun | HmRun       |  2.28231836 |\n",
       "| Division | Division    |  1.89811287 |\n",
       "| Runs | Runs        |  1.88240069 |\n",
       "| Errors | Errors      |  1.18872525 |\n",
       "| Assists | Assists     |  1.13191331 |\n",
       "| League | League      |  0.29581199 |\n",
       "| NewLeague | NewLeague   |  0.09388541 |\n",
       "\n"
      ],
      "text/plain": [
       "          var       rel.inf    \n",
       "CHmRun    CHmRun    17.74646366\n",
       "Walks     Walks     11.73014391\n",
       "Hits      Hits       9.42781277\n",
       "CAtBat    CAtBat     8.66215137\n",
       "Years     Years      7.68237445\n",
       "CWalks    CWalks     6.02158585\n",
       "CRBI      CRBI       5.99037520\n",
       "CRuns     CRuns      5.98970329\n",
       "PutOuts   PutOuts    5.38157788\n",
       "CHits     CHits      4.39019408\n",
       "AtBat     AtBat      4.14634331\n",
       "RBI       RBI        4.05810636\n",
       "HmRun     HmRun      2.28231836\n",
       "Division  Division   1.89811287\n",
       "Runs      Runs       1.88240069\n",
       "Errors    Errors     1.18872525\n",
       "Assists   Assists    1.13191331\n",
       "League    League     0.29581199\n",
       "NewLeague NewLeague  0.09388541"
      ]
     },
     "metadata": {},
     "output_type": "display_data"
    },
    {
     "data": {
      "image/png": "[encoded data removed]",
      "text/plain": [
       "plot without title"
      ]
     },
     "metadata": {
      "image/png": {
       "height": 420,
       "width": 420
      }
     },
     "output_type": "display_data"
    }
   ],
   "source": [
    "best = lambda[which.min(test.errors)]\n",
    "best_boost = gbm(Salary ~ .,train, distribution = \"gaussian\",n.trees = 1000, shrinkage = best)\n",
    "summary(best_boost)"
   ]
  },
  {
   "cell_type": "markdown",
   "metadata": {},
   "source": [
    "CHmRun, Walks and Hits seems to be the top 3 important Variables."
   ]
  },
  {
   "cell_type": "markdown",
   "metadata": {},
   "source": [
    "(g) Now apply bagging to the training set. What is the test set MSE\n",
    "for this approach?"
   ]
  },
  {
   "cell_type": "code",
   "execution_count": 64,
   "metadata": {},
   "outputs": [
    {
     "data": {
      "text/html": [
       "54175.1450917065"
      ],
      "text/latex": [
       "54175.1450917065"
      ],
      "text/markdown": [
       "54175.1450917065"
      ],
      "text/plain": [
       "[1] 54175.15"
      ]
     },
     "metadata": {},
     "output_type": "display_data"
    }
   ],
   "source": [
    "hitters_bagging = randomForest(Salary ~ .,train, mtry = 10, ntree = 500)\n",
    "pred_bag = predict(hitters_bagging, test)\n",
    "mean((test$Salary - pred_bag)^2)"
   ]
  }
 ],
 "metadata": {
  "interpreter": {
   "hash": "81e0b57edd17c3833f38e5d4db6db81e2c0f982e51ee4890d9e870805c7d8a75"
  },
  "kernelspec": {
   "display_name": "R",
   "language": "R",
   "name": "python397jvsc74a57bd0efcec0f4a6fea5e97faacfd346146a5ea077ee6e83bca1ea5b6072dbd5f55d7d"
  },
  "language_info": {
   "codemirror_mode": "r",
   "file_extension": ".r",
   "mimetype": "text/x-r-source",
   "name": "R",
   "pygments_lexer": "r",
   "version": "3.6.1"
  },
  "orig_nbformat": 4
 },
 "nbformat": 4,
 "nbformat_minor": 2
}
