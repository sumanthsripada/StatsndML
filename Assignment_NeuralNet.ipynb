{
 "cells": [
  {
   "cell_type": "markdown",
   "id": "98a606bf",
   "metadata": {},
   "source": [
    "# Neural Network Assignment \n",
    "### Comprison With 5 Classification Models \n",
    "\n",
    "By Sumanth Sripada"
   ]
  },
  {
   "cell_type": "code",
   "execution_count": 4,
   "id": "7b0317c9",
   "metadata": {},
   "outputs": [],
   "source": [
    "import numpy as np\n",
    "import pandas as pd\n",
    "import random\n",
    "import matplotlib.pyplot as plt"
   ]
  },
  {
   "cell_type": "code",
   "execution_count": 5,
   "id": "f0c5f830",
   "metadata": {},
   "outputs": [
    {
     "name": "stdout",
     "output_type": "stream",
     "text": [
      "Requirement already satisfied: tensorflow in c:\\users\\saisu\\lib\\site-packages (2.7.0)\n",
      "Requirement already satisfied: typing-extensions>=3.6.6 in c:\\users\\saisu\\lib\\site-packages (from tensorflow) (3.10.0.2)\n",
      "Requirement already satisfied: google-pasta>=0.1.1 in c:\\users\\saisu\\lib\\site-packages (from tensorflow) (0.2.0)\n",
      "Requirement already satisfied: grpcio<2.0,>=1.24.3 in c:\\users\\saisu\\lib\\site-packages (from tensorflow) (1.43.0)\n",
      "Requirement already satisfied: termcolor>=1.1.0 in c:\\users\\saisu\\lib\\site-packages (from tensorflow) (1.1.0)\n",
      "Requirement already satisfied: gast<0.5.0,>=0.2.1 in c:\\users\\saisu\\lib\\site-packages (from tensorflow) (0.4.0)\n",
      "Requirement already satisfied: astunparse>=1.6.0 in c:\\users\\saisu\\lib\\site-packages (from tensorflow) (1.6.3)\n",
      "Requirement already satisfied: wheel<1.0,>=0.32.0 in c:\\users\\saisu\\lib\\site-packages (from tensorflow) (0.37.1)\n",
      "Requirement already satisfied: flatbuffers<3.0,>=1.12 in c:\\users\\saisu\\lib\\site-packages (from tensorflow) (2.0)\n",
      "Requirement already satisfied: tensorflow-io-gcs-filesystem>=0.21.0 in c:\\users\\saisu\\lib\\site-packages (from tensorflow) (0.23.1)\n",
      "Requirement already satisfied: tensorflow-estimator<2.8,~=2.7.0rc0 in c:\\users\\saisu\\lib\\site-packages (from tensorflow) (2.7.0)\n",
      "Requirement already satisfied: six>=1.12.0 in c:\\users\\saisu\\lib\\site-packages (from tensorflow) (1.16.0)\n",
      "Requirement already satisfied: protobuf>=3.9.2 in c:\\users\\saisu\\lib\\site-packages (from tensorflow) (3.19.1)\n",
      "Requirement already satisfied: absl-py>=0.4.0 in c:\\users\\saisu\\lib\\site-packages (from tensorflow) (0.12.0)\n",
      "Requirement already satisfied: tensorboard~=2.6 in c:\\users\\saisu\\lib\\site-packages (from tensorflow) (2.7.0)\n",
      "Requirement already satisfied: opt-einsum>=2.3.2 in c:\\users\\saisu\\lib\\site-packages (from tensorflow) (3.3.0)\n",
      "Requirement already satisfied: libclang>=9.0.1 in c:\\users\\saisu\\lib\\site-packages (from tensorflow) (12.0.0)\n",
      "Requirement already satisfied: numpy>=1.14.5 in c:\\users\\saisu\\lib\\site-packages (from tensorflow) (1.20.3)\n",
      "Requirement already satisfied: keras-preprocessing>=1.1.1 in c:\\users\\saisu\\lib\\site-packages (from tensorflow) (1.1.2)\n",
      "Requirement already satisfied: wrapt>=1.11.0 in c:\\users\\saisu\\lib\\site-packages (from tensorflow) (1.13.3)\n",
      "Requirement already satisfied: keras<2.8,>=2.7.0rc0 in c:\\users\\saisu\\lib\\site-packages (from tensorflow) (2.7.0)\n",
      "Requirement already satisfied: h5py>=2.9.0 in c:\\users\\saisu\\lib\\site-packages (from tensorflow) (3.6.0)\n",
      "Requirement already satisfied: google-auth-oauthlib<0.5,>=0.4.1 in c:\\users\\saisu\\lib\\site-packages (from tensorboard~=2.6->tensorflow) (0.4.6)\n",
      "Requirement already satisfied: markdown>=2.6.8 in c:\\users\\saisu\\lib\\site-packages (from tensorboard~=2.6->tensorflow) (3.3.6)\n",
      "Requirement already satisfied: tensorboard-plugin-wit>=1.6.0 in c:\\users\\saisu\\lib\\site-packages (from tensorboard~=2.6->tensorflow) (1.8.1)\n",
      "Requirement already satisfied: google-auth<3,>=1.6.3 in c:\\users\\saisu\\lib\\site-packages (from tensorboard~=2.6->tensorflow) (2.3.3)\n",
      "Requirement already satisfied: tensorboard-data-server<0.7.0,>=0.6.0 in c:\\users\\saisu\\lib\\site-packages (from tensorboard~=2.6->tensorflow) (0.6.1)\n",
      "Requirement already satisfied: requests<3,>=2.21.0 in c:\\users\\saisu\\lib\\site-packages (from tensorboard~=2.6->tensorflow) (2.26.0)\n",
      "Requirement already satisfied: werkzeug>=0.11.15 in c:\\users\\saisu\\lib\\site-packages (from tensorboard~=2.6->tensorflow) (2.0.2)\n",
      "Requirement already satisfied: setuptools>=41.0.0 in c:\\users\\saisu\\lib\\site-packages (from tensorboard~=2.6->tensorflow) (56.0.0)\n",
      "Requirement already satisfied: pyasn1-modules>=0.2.1 in c:\\users\\saisu\\lib\\site-packages (from google-auth<3,>=1.6.3->tensorboard~=2.6->tensorflow) (0.2.8)\n",
      "Requirement already satisfied: cachetools<5.0,>=2.0.0 in c:\\users\\saisu\\lib\\site-packages (from google-auth<3,>=1.6.3->tensorboard~=2.6->tensorflow) (4.2.4)\n",
      "Requirement already satisfied: rsa<5,>=3.1.4 in c:\\users\\saisu\\lib\\site-packages (from google-auth<3,>=1.6.3->tensorboard~=2.6->tensorflow) (4.8)\n",
      "Requirement already satisfied: requests-oauthlib>=0.7.0 in c:\\users\\saisu\\lib\\site-packages (from google-auth-oauthlib<0.5,>=0.4.1->tensorboard~=2.6->tensorflow) (1.3.0)\n",
      "Requirement already satisfied: importlib-metadata>=4.4 in c:\\users\\saisu\\lib\\site-packages (from markdown>=2.6.8->tensorboard~=2.6->tensorflow) (4.10.0)\n",
      "Requirement already satisfied: urllib3<1.27,>=1.21.1 in c:\\users\\saisu\\lib\\site-packages (from requests<3,>=2.21.0->tensorboard~=2.6->tensorflow) (1.26.7)\n",
      "Requirement already satisfied: idna<4,>=2.5 in c:\\users\\saisu\\lib\\site-packages (from requests<3,>=2.21.0->tensorboard~=2.6->tensorflow) (3.3)Note: you may need to restart the kernel to use updated packages.\n",
      "\n",
      "Requirement already satisfied: certifi>=2017.4.17 in c:\\users\\saisu\\lib\\site-packages (from requests<3,>=2.21.0->tensorboard~=2.6->tensorflow) (2021.10.8)\n",
      "Requirement already satisfied: charset-normalizer~=2.0.0 in c:\\users\\saisu\\lib\\site-packages (from requests<3,>=2.21.0->tensorboard~=2.6->tensorflow) (2.0.7)\n",
      "Requirement already satisfied: zipp>=0.5 in c:\\users\\saisu\\lib\\site-packages (from importlib-metadata>=4.4->markdown>=2.6.8->tensorboard~=2.6->tensorflow) (3.7.0)\n",
      "Requirement already satisfied: pyasn1<0.5.0,>=0.4.6 in c:\\users\\saisu\\lib\\site-packages (from pyasn1-modules>=0.2.1->google-auth<3,>=1.6.3->tensorboard~=2.6->tensorflow) (0.4.8)\n",
      "Requirement already satisfied: oauthlib>=3.0.0 in c:\\users\\saisu\\lib\\site-packages (from requests-oauthlib>=0.7.0->google-auth-oauthlib<0.5,>=0.4.1->tensorboard~=2.6->tensorflow) (3.1.1)\n"
     ]
    }
   ],
   "source": [
    "pip install tensorflow"
   ]
  },
  {
   "cell_type": "code",
   "execution_count": 6,
   "id": "3f3aa2a7",
   "metadata": {},
   "outputs": [],
   "source": [
    "import tensorflow as tf"
   ]
  },
  {
   "cell_type": "code",
   "execution_count": 9,
   "id": "809b4763",
   "metadata": {},
   "outputs": [],
   "source": [
    "#Machine Learning Models\n",
    "from sklearn import linear_model\n",
    "from sklearn.linear_model import LinearRegression\n",
    "from sklearn.linear_model import LogisticRegression\n",
    "from sklearn.ensemble import RandomForestClassifier\n",
    "from sklearn.neural_network import MLPClassifier\n",
    "from sklearn.neighbors import KNeighborsClassifier\n",
    "from sklearn.tree import DecisionTreeClassifier\n",
    "from sklearn.ensemble import RandomForestRegressor\n",
    "from sklearn import metrics\n",
    "from sklearn.metrics import r2_score\n",
    "from sklearn.metrics import mean_squared_error\n",
    "from sklearn.metrics import accuracy_score\n",
    "from sklearn.metrics import roc_auc_score"
   ]
  },
  {
   "cell_type": "code",
   "execution_count": 15,
   "id": "8ba6f313",
   "metadata": {},
   "outputs": [],
   "source": [
    "data = pd.read_csv('C:/Users/saisu/OneDrive/Desktop/SML_Section7/SML_Section7/data/bankruptcy_prediction/data.csv')"
   ]
  },
  {
   "cell_type": "code",
   "execution_count": 16,
   "id": "56fa5347",
   "metadata": {},
   "outputs": [
    {
     "data": {
      "text/html": [
       "<div>\n",
       "<style scoped>\n",
       "    .dataframe tbody tr th:only-of-type {\n",
       "        vertical-align: middle;\n",
       "    }\n",
       "\n",
       "    .dataframe tbody tr th {\n",
       "        vertical-align: top;\n",
       "    }\n",
       "\n",
       "    .dataframe thead th {\n",
       "        text-align: right;\n",
       "    }\n",
       "</style>\n",
       "<table border=\"1\" class=\"dataframe\">\n",
       "  <thead>\n",
       "    <tr style=\"text-align: right;\">\n",
       "      <th></th>\n",
       "      <th>Bankrupt?</th>\n",
       "      <th>ROA(C) before interest and depreciation before interest</th>\n",
       "      <th>ROA(A) before interest and % after tax</th>\n",
       "      <th>ROA(B) before interest and depreciation after tax</th>\n",
       "      <th>Operating Gross Margin</th>\n",
       "      <th>Realized Sales Gross Margin</th>\n",
       "      <th>Operating Profit Rate</th>\n",
       "      <th>Pre-tax net Interest Rate</th>\n",
       "      <th>After-tax net Interest Rate</th>\n",
       "      <th>Non-industry income and expenditure/revenue</th>\n",
       "      <th>...</th>\n",
       "      <th>Net Income to Total Assets</th>\n",
       "      <th>Total assets to GNP price</th>\n",
       "      <th>No-credit Interval</th>\n",
       "      <th>Gross Profit to Sales</th>\n",
       "      <th>Net Income to Stockholder's Equity</th>\n",
       "      <th>Liability to Equity</th>\n",
       "      <th>Degree of Financial Leverage (DFL)</th>\n",
       "      <th>Interest Coverage Ratio (Interest expense to EBIT)</th>\n",
       "      <th>Net Income Flag</th>\n",
       "      <th>Equity to Liability</th>\n",
       "    </tr>\n",
       "  </thead>\n",
       "  <tbody>\n",
       "    <tr>\n",
       "      <th>0</th>\n",
       "      <td>1</td>\n",
       "      <td>0.370594</td>\n",
       "      <td>0.424389</td>\n",
       "      <td>0.405750</td>\n",
       "      <td>0.601457</td>\n",
       "      <td>0.601457</td>\n",
       "      <td>0.998969</td>\n",
       "      <td>0.796887</td>\n",
       "      <td>0.808809</td>\n",
       "      <td>0.302646</td>\n",
       "      <td>...</td>\n",
       "      <td>0.716845</td>\n",
       "      <td>0.009219</td>\n",
       "      <td>0.622879</td>\n",
       "      <td>0.601453</td>\n",
       "      <td>0.827890</td>\n",
       "      <td>0.290202</td>\n",
       "      <td>0.026601</td>\n",
       "      <td>0.564050</td>\n",
       "      <td>1</td>\n",
       "      <td>0.016469</td>\n",
       "    </tr>\n",
       "    <tr>\n",
       "      <th>1</th>\n",
       "      <td>1</td>\n",
       "      <td>0.464291</td>\n",
       "      <td>0.538214</td>\n",
       "      <td>0.516730</td>\n",
       "      <td>0.610235</td>\n",
       "      <td>0.610235</td>\n",
       "      <td>0.998946</td>\n",
       "      <td>0.797380</td>\n",
       "      <td>0.809301</td>\n",
       "      <td>0.303556</td>\n",
       "      <td>...</td>\n",
       "      <td>0.795297</td>\n",
       "      <td>0.008323</td>\n",
       "      <td>0.623652</td>\n",
       "      <td>0.610237</td>\n",
       "      <td>0.839969</td>\n",
       "      <td>0.283846</td>\n",
       "      <td>0.264577</td>\n",
       "      <td>0.570175</td>\n",
       "      <td>1</td>\n",
       "      <td>0.020794</td>\n",
       "    </tr>\n",
       "    <tr>\n",
       "      <th>2</th>\n",
       "      <td>1</td>\n",
       "      <td>0.426071</td>\n",
       "      <td>0.499019</td>\n",
       "      <td>0.472295</td>\n",
       "      <td>0.601450</td>\n",
       "      <td>0.601364</td>\n",
       "      <td>0.998857</td>\n",
       "      <td>0.796403</td>\n",
       "      <td>0.808388</td>\n",
       "      <td>0.302035</td>\n",
       "      <td>...</td>\n",
       "      <td>0.774670</td>\n",
       "      <td>0.040003</td>\n",
       "      <td>0.623841</td>\n",
       "      <td>0.601449</td>\n",
       "      <td>0.836774</td>\n",
       "      <td>0.290189</td>\n",
       "      <td>0.026555</td>\n",
       "      <td>0.563706</td>\n",
       "      <td>1</td>\n",
       "      <td>0.016474</td>\n",
       "    </tr>\n",
       "    <tr>\n",
       "      <th>3</th>\n",
       "      <td>1</td>\n",
       "      <td>0.399844</td>\n",
       "      <td>0.451265</td>\n",
       "      <td>0.457733</td>\n",
       "      <td>0.583541</td>\n",
       "      <td>0.583541</td>\n",
       "      <td>0.998700</td>\n",
       "      <td>0.796967</td>\n",
       "      <td>0.808966</td>\n",
       "      <td>0.303350</td>\n",
       "      <td>...</td>\n",
       "      <td>0.739555</td>\n",
       "      <td>0.003252</td>\n",
       "      <td>0.622929</td>\n",
       "      <td>0.583538</td>\n",
       "      <td>0.834697</td>\n",
       "      <td>0.281721</td>\n",
       "      <td>0.026697</td>\n",
       "      <td>0.564663</td>\n",
       "      <td>1</td>\n",
       "      <td>0.023982</td>\n",
       "    </tr>\n",
       "    <tr>\n",
       "      <th>4</th>\n",
       "      <td>1</td>\n",
       "      <td>0.465022</td>\n",
       "      <td>0.538432</td>\n",
       "      <td>0.522298</td>\n",
       "      <td>0.598783</td>\n",
       "      <td>0.598783</td>\n",
       "      <td>0.998973</td>\n",
       "      <td>0.797366</td>\n",
       "      <td>0.809304</td>\n",
       "      <td>0.303475</td>\n",
       "      <td>...</td>\n",
       "      <td>0.795016</td>\n",
       "      <td>0.003878</td>\n",
       "      <td>0.623521</td>\n",
       "      <td>0.598782</td>\n",
       "      <td>0.839973</td>\n",
       "      <td>0.278514</td>\n",
       "      <td>0.024752</td>\n",
       "      <td>0.575617</td>\n",
       "      <td>1</td>\n",
       "      <td>0.035490</td>\n",
       "    </tr>\n",
       "  </tbody>\n",
       "</table>\n",
       "<p>5 rows × 96 columns</p>\n",
       "</div>"
      ],
      "text/plain": [
       "   Bankrupt?   ROA(C) before interest and depreciation before interest  \\\n",
       "0          1                                           0.370594          \n",
       "1          1                                           0.464291          \n",
       "2          1                                           0.426071          \n",
       "3          1                                           0.399844          \n",
       "4          1                                           0.465022          \n",
       "\n",
       "    ROA(A) before interest and % after tax  \\\n",
       "0                                 0.424389   \n",
       "1                                 0.538214   \n",
       "2                                 0.499019   \n",
       "3                                 0.451265   \n",
       "4                                 0.538432   \n",
       "\n",
       "    ROA(B) before interest and depreciation after tax  \\\n",
       "0                                           0.405750    \n",
       "1                                           0.516730    \n",
       "2                                           0.472295    \n",
       "3                                           0.457733    \n",
       "4                                           0.522298    \n",
       "\n",
       "    Operating Gross Margin   Realized Sales Gross Margin  \\\n",
       "0                 0.601457                      0.601457   \n",
       "1                 0.610235                      0.610235   \n",
       "2                 0.601450                      0.601364   \n",
       "3                 0.583541                      0.583541   \n",
       "4                 0.598783                      0.598783   \n",
       "\n",
       "    Operating Profit Rate   Pre-tax net Interest Rate  \\\n",
       "0                0.998969                    0.796887   \n",
       "1                0.998946                    0.797380   \n",
       "2                0.998857                    0.796403   \n",
       "3                0.998700                    0.796967   \n",
       "4                0.998973                    0.797366   \n",
       "\n",
       "    After-tax net Interest Rate   Non-industry income and expenditure/revenue  \\\n",
       "0                      0.808809                                      0.302646   \n",
       "1                      0.809301                                      0.303556   \n",
       "2                      0.808388                                      0.302035   \n",
       "3                      0.808966                                      0.303350   \n",
       "4                      0.809304                                      0.303475   \n",
       "\n",
       "   ...   Net Income to Total Assets   Total assets to GNP price  \\\n",
       "0  ...                     0.716845                    0.009219   \n",
       "1  ...                     0.795297                    0.008323   \n",
       "2  ...                     0.774670                    0.040003   \n",
       "3  ...                     0.739555                    0.003252   \n",
       "4  ...                     0.795016                    0.003878   \n",
       "\n",
       "    No-credit Interval   Gross Profit to Sales  \\\n",
       "0             0.622879                0.601453   \n",
       "1             0.623652                0.610237   \n",
       "2             0.623841                0.601449   \n",
       "3             0.622929                0.583538   \n",
       "4             0.623521                0.598782   \n",
       "\n",
       "    Net Income to Stockholder's Equity   Liability to Equity  \\\n",
       "0                             0.827890              0.290202   \n",
       "1                             0.839969              0.283846   \n",
       "2                             0.836774              0.290189   \n",
       "3                             0.834697              0.281721   \n",
       "4                             0.839973              0.278514   \n",
       "\n",
       "    Degree of Financial Leverage (DFL)  \\\n",
       "0                             0.026601   \n",
       "1                             0.264577   \n",
       "2                             0.026555   \n",
       "3                             0.026697   \n",
       "4                             0.024752   \n",
       "\n",
       "    Interest Coverage Ratio (Interest expense to EBIT)   Net Income Flag  \\\n",
       "0                                           0.564050                   1   \n",
       "1                                           0.570175                   1   \n",
       "2                                           0.563706                   1   \n",
       "3                                           0.564663                   1   \n",
       "4                                           0.575617                   1   \n",
       "\n",
       "    Equity to Liability  \n",
       "0              0.016469  \n",
       "1              0.020794  \n",
       "2              0.016474  \n",
       "3              0.023982  \n",
       "4              0.035490  \n",
       "\n",
       "[5 rows x 96 columns]"
      ]
     },
     "execution_count": 16,
     "metadata": {},
     "output_type": "execute_result"
    }
   ],
   "source": [
    "data.head()"
   ]
  },
  {
   "cell_type": "code",
   "execution_count": 17,
   "id": "3ba942af",
   "metadata": {},
   "outputs": [
    {
     "data": {
      "text/plain": [
       "Bankrupt?                                                   0\n",
       " ROA(C) before interest and depreciation before interest    0\n",
       " ROA(A) before interest and % after tax                     0\n",
       " ROA(B) before interest and depreciation after tax          0\n",
       " Operating Gross Margin                                     0\n",
       "                                                           ..\n",
       " Liability to Equity                                        0\n",
       " Degree of Financial Leverage (DFL)                         0\n",
       " Interest Coverage Ratio (Interest expense to EBIT)         0\n",
       " Net Income Flag                                            0\n",
       " Equity to Liability                                        0\n",
       "Length: 96, dtype: int64"
      ]
     },
     "execution_count": 17,
     "metadata": {},
     "output_type": "execute_result"
    }
   ],
   "source": [
    "data.isna().sum()"
   ]
  },
  {
   "cell_type": "code",
   "execution_count": 19,
   "id": "d77b7023",
   "metadata": {},
   "outputs": [],
   "source": [
    "from sklearn.model_selection import train_test_split"
   ]
  },
  {
   "cell_type": "code",
   "execution_count": 20,
   "id": "11e7d405",
   "metadata": {},
   "outputs": [],
   "source": [
    "X = data.loc[:, data.columns != 'Bankrupt?']\n",
    "y = data['Bankrupt?']"
   ]
  },
  {
   "cell_type": "code",
   "execution_count": 21,
   "id": "50c080ae",
   "metadata": {},
   "outputs": [],
   "source": [
    "#Split data into train-test(20)\n",
    "X_train, X_test, y_train, y_test = train_test_split(X, y, test_size = 0.2)"
   ]
  },
  {
   "cell_type": "code",
   "execution_count": 25,
   "id": "1ad348de",
   "metadata": {},
   "outputs": [
    {
     "data": {
      "text/plain": [
       "((5455, 95), (1364, 95))"
      ]
     },
     "execution_count": 25,
     "metadata": {},
     "output_type": "execute_result"
    }
   ],
   "source": [
    "X_train.shape ,X_test.shape"
   ]
  },
  {
   "cell_type": "code",
   "execution_count": 24,
   "id": "0ed43502",
   "metadata": {},
   "outputs": [
    {
     "data": {
      "text/plain": [
       "(5455,)"
      ]
     },
     "execution_count": 24,
     "metadata": {},
     "output_type": "execute_result"
    }
   ],
   "source": [
    "y_train.shape"
   ]
  },
  {
   "cell_type": "markdown",
   "id": "ee007297",
   "metadata": {},
   "source": [
    "NN Model with 1 hidden layer of 30 neurons , activation function - sigmoid"
   ]
  },
  {
   "cell_type": "code",
   "execution_count": 26,
   "id": "29a9c22e",
   "metadata": {},
   "outputs": [],
   "source": [
    "model = tf.keras.models.Sequential([\n",
    "  tf.keras.layers.Dense(30, input_dim=95, activation='sigmoid'),\n",
    "  tf.keras.layers.Dense(10)                                       \n",
    "])"
   ]
  },
  {
   "cell_type": "code",
   "execution_count": 27,
   "id": "7cc67c5b",
   "metadata": {},
   "outputs": [
    {
     "name": "stdout",
     "output_type": "stream",
     "text": [
      "Model: \"sequential\"\n",
      "_________________________________________________________________\n",
      " Layer (type)                Output Shape              Param #   \n",
      "=================================================================\n",
      " dense (Dense)               (None, 30)                2880      \n",
      "                                                                 \n",
      " dense_1 (Dense)             (None, 10)                310       \n",
      "                                                                 \n",
      "=================================================================\n",
      "Total params: 3,190\n",
      "Trainable params: 3,190\n",
      "Non-trainable params: 0\n",
      "_________________________________________________________________\n"
     ]
    }
   ],
   "source": [
    "model.summary()"
   ]
  },
  {
   "cell_type": "code",
   "execution_count": 28,
   "id": "5de9490e",
   "metadata": {},
   "outputs": [
    {
     "data": {
      "text/plain": [
       "<tf.Tensor: shape=(1, 10), dtype=float32, numpy=\n",
       "array([[ 0.44325733, -0.27435243,  0.71660435,  1.17753   , -0.22243267,\n",
       "        -1.5920134 , -0.3397721 , -0.53975785, -0.6380731 ,  1.1833768 ]],\n",
       "      dtype=float32)>"
      ]
     },
     "execution_count": 28,
     "metadata": {},
     "output_type": "execute_result"
    }
   ],
   "source": [
    "#predictions\n",
    "predictions = model(np.array(X_train[:1]))\n",
    "predictions"
   ]
  },
  {
   "cell_type": "code",
   "execution_count": 29,
   "id": "643546a2",
   "metadata": {},
   "outputs": [
    {
     "data": {
      "text/plain": [
       "array([[0.1136708 , 0.05546193, 0.14940393, 0.23688607, 0.05841757,\n",
       "        0.01485054, 0.05194976, 0.04253348, 0.03855077, 0.23827514]],\n",
       "      dtype=float32)"
      ]
     },
     "execution_count": 29,
     "metadata": {},
     "output_type": "execute_result"
    }
   ],
   "source": [
    "# Return prediction as a vector of probability\n",
    "tf.nn.softmax(predictions).numpy()"
   ]
  },
  {
   "cell_type": "code",
   "execution_count": 30,
   "id": "2d31a26b",
   "metadata": {},
   "outputs": [
    {
     "data": {
      "text/plain": [
       "2.1744485"
      ]
     },
     "execution_count": 30,
     "metadata": {},
     "output_type": "execute_result"
    }
   ],
   "source": [
    "# Loss Function\n",
    "loss_fn = tf.keras.losses.SparseCategoricalCrossentropy(from_logits=True)\n",
    "loss_fn(y_train[:1], predictions).numpy()"
   ]
  },
  {
   "cell_type": "code",
   "execution_count": 31,
   "id": "699ccd16",
   "metadata": {},
   "outputs": [],
   "source": [
    "model.compile(optimizer='adam',\n",
    "              loss=loss_fn,\n",
    "              metrics=['accuracy'])"
   ]
  },
  {
   "cell_type": "code",
   "execution_count": 32,
   "id": "bbebd4fe",
   "metadata": {},
   "outputs": [
    {
     "name": "stdout",
     "output_type": "stream",
     "text": [
      "Epoch 1/5\n",
      "171/171 [==============================] - 0s 628us/step - loss: 0.7357 - accuracy: 0.8643\n",
      "Epoch 2/5\n",
      "171/171 [==============================] - 0s 622us/step - loss: 0.2244 - accuracy: 0.9677\n",
      "Epoch 3/5\n",
      "171/171 [==============================] - 0s 716us/step - loss: 0.1842 - accuracy: 0.9677\n",
      "Epoch 4/5\n",
      "171/171 [==============================] - 0s 698us/step - loss: 0.1707 - accuracy: 0.9677\n",
      "Epoch 5/5\n",
      "171/171 [==============================] - 0s 622us/step - loss: 0.1640 - accuracy: 0.9677\n"
     ]
    },
    {
     "data": {
      "text/plain": [
       "<keras.callbacks.History at 0x23602a4f7f0>"
      ]
     },
     "execution_count": 32,
     "metadata": {},
     "output_type": "execute_result"
    }
   ],
   "source": [
    "# Train the model\n",
    "model.fit(X_train, y_train, epochs=5)"
   ]
  },
  {
   "cell_type": "code",
   "execution_count": 33,
   "id": "444cbd97",
   "metadata": {},
   "outputs": [
    {
     "name": "stdout",
     "output_type": "stream",
     "text": [
      "171/171 - 0s - loss: 0.1612 - accuracy: 0.9677 - 167ms/epoch - 977us/step\n"
     ]
    },
    {
     "data": {
      "text/plain": [
       "[0.1611965149641037, 0.967736005783081]"
      ]
     },
     "execution_count": 33,
     "metadata": {},
     "output_type": "execute_result"
    }
   ],
   "source": [
    "# Model Evaluation Train\n",
    "model.evaluate(X_train,  y_train, verbose=2)"
   ]
  },
  {
   "cell_type": "code",
   "execution_count": 34,
   "id": "d78764ce",
   "metadata": {},
   "outputs": [
    {
     "name": "stdout",
     "output_type": "stream",
     "text": [
      "43/43 - 0s - loss: 0.1561 - accuracy: 0.9677 - 31ms/epoch - 718us/step\n"
     ]
    },
    {
     "data": {
      "text/plain": [
       "[0.15612338483333588, 0.9677419066429138]"
      ]
     },
     "execution_count": 34,
     "metadata": {},
     "output_type": "execute_result"
    }
   ],
   "source": [
    "# Model Evalution Test\n",
    "model.evaluate(X_test,  y_test, verbose=2)"
   ]
  },
  {
   "cell_type": "code",
   "execution_count": 35,
   "id": "12c46053",
   "metadata": {},
   "outputs": [],
   "source": [
    "probability_model = tf.keras.Sequential([\n",
    "  model,\n",
    "  tf.keras.layers.Softmax()\n",
    "])"
   ]
  },
  {
   "cell_type": "code",
   "execution_count": 36,
   "id": "e2daf929",
   "metadata": {},
   "outputs": [
    {
     "data": {
      "text/plain": [
       "array([[9.51155961e-01, 4.14252318e-02, 2.66122399e-03, 9.47188353e-04,\n",
       "        8.56169267e-04, 1.26398474e-04, 1.30099314e-03, 5.59236505e-04,\n",
       "        2.55558261e-04, 7.12124398e-04],\n",
       "       [9.61066544e-01, 3.36946398e-02, 1.83814648e-03, 7.49143073e-04,\n",
       "        4.39799594e-04, 1.04369254e-04, 1.16147567e-03, 6.75463525e-04,\n",
       "        1.08559660e-04, 1.61812670e-04],\n",
       "       [9.75487590e-01, 2.07755398e-02, 4.35003487e-04, 8.12849263e-04,\n",
       "        7.59864401e-04, 1.18058757e-04, 3.99009587e-04, 5.05289936e-04,\n",
       "        1.67698861e-04, 5.39069704e-04],\n",
       "       [9.51376259e-01, 4.00217101e-02, 6.34657685e-04, 2.64013093e-03,\n",
       "        1.09329249e-03, 3.05972819e-04, 8.28536286e-04, 4.38723277e-04,\n",
       "        5.58947970e-04, 2.10184883e-03],\n",
       "       [9.74538505e-01, 2.31162123e-02, 7.87877187e-04, 2.40059817e-04,\n",
       "        1.86721969e-04, 5.34380997e-05, 4.05539293e-04, 1.41289522e-04,\n",
       "        1.05296989e-04, 4.24990605e-04]], dtype=float32)"
      ]
     },
     "execution_count": 36,
     "metadata": {},
     "output_type": "execute_result"
    }
   ],
   "source": [
    "#predictions\n",
    "y_test_pred = probability_model(np.array(X_test))\n",
    "y_test_pred = y_test_pred.numpy()\n",
    "y_test_pred[:5]"
   ]
  },
  {
   "cell_type": "markdown",
   "id": "8f3c08cd",
   "metadata": {},
   "source": [
    "### Q3: Build a deep NN model with multiple hidden layers (of your choice) and sigmoid activation function."
   ]
  },
  {
   "cell_type": "code",
   "execution_count": 38,
   "id": "c2e57ce2",
   "metadata": {},
   "outputs": [],
   "source": [
    "model = tf.keras.models.Sequential([\n",
    "  tf.keras.layers.Dense(100, input_dim=95, activation='sigmoid'), \n",
    "  tf.keras.layers.Dense(50, activation='sigmoid'),\n",
    "  tf.keras.layers.Dense(20, activation='sigmoid'),\n",
    "  tf.keras.layers.Dense(10)                                       \n",
    "])"
   ]
  },
  {
   "cell_type": "code",
   "execution_count": 40,
   "id": "4ba23183",
   "metadata": {},
   "outputs": [
    {
     "name": "stdout",
     "output_type": "stream",
     "text": [
      "Model: \"sequential_3\"\n",
      "_________________________________________________________________\n",
      " Layer (type)                Output Shape              Param #   \n",
      "=================================================================\n",
      " dense_6 (Dense)             (None, 100)               9600      \n",
      "                                                                 \n",
      " dense_7 (Dense)             (None, 50)                5050      \n",
      "                                                                 \n",
      " dense_8 (Dense)             (None, 20)                1020      \n",
      "                                                                 \n",
      " dense_9 (Dense)             (None, 10)                210       \n",
      "                                                                 \n",
      "=================================================================\n",
      "Total params: 15,880\n",
      "Trainable params: 15,880\n",
      "Non-trainable params: 0\n",
      "_________________________________________________________________\n"
     ]
    }
   ],
   "source": [
    "model.summary()"
   ]
  },
  {
   "cell_type": "code",
   "execution_count": 41,
   "id": "62b01591",
   "metadata": {},
   "outputs": [
    {
     "data": {
      "text/plain": [
       "<tf.Tensor: shape=(5455, 10), dtype=float32, numpy=\n",
       "array([[ 0.3161849 ,  0.7032774 ,  0.05213815, ...,  0.57483745,\n",
       "        -0.26901418,  0.5004026 ],\n",
       "       [ 0.29375604,  0.6459809 ,  0.07167967, ...,  0.5941301 ,\n",
       "        -0.29430604,  0.4856464 ],\n",
       "       [ 0.308604  ,  0.6798595 ,  0.07861611, ...,  0.5818597 ,\n",
       "        -0.31928998,  0.51432925],\n",
       "       ...,\n",
       "       [ 0.25700617,  0.67742115,  0.10500608, ...,  0.5724947 ,\n",
       "        -0.3052978 ,  0.46225291],\n",
       "       [ 0.27269217,  0.6378217 ,  0.10231256, ...,  0.59221333,\n",
       "        -0.29033476,  0.5234034 ],\n",
       "       [ 0.2822383 ,  0.69002855,  0.07268924, ...,  0.57884705,\n",
       "        -0.2809038 ,  0.45101726]], dtype=float32)>"
      ]
     },
     "execution_count": 41,
     "metadata": {},
     "output_type": "execute_result"
    }
   ],
   "source": [
    "#predictions\n",
    "predictions = model(np.array(X_train))\n",
    "predictions"
   ]
  },
  {
   "cell_type": "code",
   "execution_count": 43,
   "id": "a74f32f4",
   "metadata": {},
   "outputs": [
    {
     "data": {
      "text/plain": [
       "2.348396"
      ]
     },
     "execution_count": 43,
     "metadata": {},
     "output_type": "execute_result"
    }
   ],
   "source": [
    "#loss function\n",
    "loss_fn = tf.keras.losses.SparseCategoricalCrossentropy(from_logits=True)\n",
    "loss_fn(y_train, predictions).numpy()"
   ]
  },
  {
   "cell_type": "code",
   "execution_count": 45,
   "id": "ca540edd",
   "metadata": {},
   "outputs": [],
   "source": [
    "model.compile(optimizer='adam',\n",
    "              loss=loss_fn,\n",
    "              metrics=['accuracy'])"
   ]
  },
  {
   "cell_type": "code",
   "execution_count": 47,
   "id": "674a9c59",
   "metadata": {},
   "outputs": [
    {
     "name": "stdout",
     "output_type": "stream",
     "text": [
      "Epoch 1/100\n",
      "171/171 [==============================] - 0s 739us/step - loss: 0.1248 - accuracy: 0.9676\n",
      "Epoch 2/100\n",
      "171/171 [==============================] - 0s 727us/step - loss: 0.1240 - accuracy: 0.9679\n",
      "Epoch 3/100\n",
      "171/171 [==============================] - 0s 862us/step - loss: 0.1232 - accuracy: 0.9683\n",
      "Epoch 4/100\n",
      "171/171 [==============================] - 0s 968us/step - loss: 0.1225 - accuracy: 0.9685\n",
      "Epoch 5/100\n",
      "171/171 [==============================] - 0s 1ms/step - loss: 0.1224 - accuracy: 0.9676\n",
      "Epoch 6/100\n",
      "171/171 [==============================] - 0s 1ms/step - loss: 0.1214 - accuracy: 0.9687\n",
      "Epoch 7/100\n",
      "171/171 [==============================] - 0s 943us/step - loss: 0.1208 - accuracy: 0.9692\n",
      "Epoch 8/100\n",
      "171/171 [==============================] - 0s 945us/step - loss: 0.1207 - accuracy: 0.9683\n",
      "Epoch 9/100\n",
      "171/171 [==============================] - 0s 880us/step - loss: 0.1210 - accuracy: 0.9698\n",
      "Epoch 10/100\n",
      "171/171 [==============================] - 0s 1ms/step - loss: 0.1204 - accuracy: 0.9692\n",
      "Epoch 11/100\n",
      "171/171 [==============================] - 0s 974us/step - loss: 0.1194 - accuracy: 0.9688\n",
      "Epoch 12/100\n",
      "171/171 [==============================] - 0s 821us/step - loss: 0.1199 - accuracy: 0.9688\n",
      "Epoch 13/100\n",
      "171/171 [==============================] - 0s 815us/step - loss: 0.1180 - accuracy: 0.9690\n",
      "Epoch 14/100\n",
      "171/171 [==============================] - 0s 774us/step - loss: 0.1178 - accuracy: 0.9692\n",
      "Epoch 15/100\n",
      "171/171 [==============================] - 0s 757us/step - loss: 0.1174 - accuracy: 0.9690\n",
      "Epoch 16/100\n",
      "171/171 [==============================] - 0s 751us/step - loss: 0.1169 - accuracy: 0.9696\n",
      "Epoch 17/100\n",
      "171/171 [==============================] - 0s 751us/step - loss: 0.1177 - accuracy: 0.9683\n",
      "Epoch 18/100\n",
      "171/171 [==============================] - 0s 747us/step - loss: 0.1162 - accuracy: 0.9688\n",
      "Epoch 19/100\n",
      "171/171 [==============================] - 0s 739us/step - loss: 0.1153 - accuracy: 0.9696\n",
      "Epoch 20/100\n",
      "171/171 [==============================] - 0s 751us/step - loss: 0.1164 - accuracy: 0.9688\n",
      "Epoch 21/100\n",
      "171/171 [==============================] - 0s 745us/step - loss: 0.1149 - accuracy: 0.9694\n",
      "Epoch 22/100\n",
      "171/171 [==============================] - 0s 745us/step - loss: 0.1138 - accuracy: 0.9694\n",
      "Epoch 23/100\n",
      "171/171 [==============================] - 0s 727us/step - loss: 0.1135 - accuracy: 0.9696\n",
      "Epoch 24/100\n",
      "171/171 [==============================] - 0s 774us/step - loss: 0.1128 - accuracy: 0.9705\n",
      "Epoch 25/100\n",
      "171/171 [==============================] - 0s 763us/step - loss: 0.1124 - accuracy: 0.9698\n",
      "Epoch 26/100\n",
      "171/171 [==============================] - 0s 745us/step - loss: 0.1115 - accuracy: 0.9712\n",
      "Epoch 27/100\n",
      "171/171 [==============================] - 0s 742us/step - loss: 0.1107 - accuracy: 0.9705\n",
      "Epoch 28/100\n",
      "171/171 [==============================] - 0s 807us/step - loss: 0.1113 - accuracy: 0.9699\n",
      "Epoch 29/100\n",
      "171/171 [==============================] - 0s 751us/step - loss: 0.1105 - accuracy: 0.9699\n",
      "Epoch 30/100\n",
      "171/171 [==============================] - 0s 786us/step - loss: 0.1099 - accuracy: 0.9698\n",
      "Epoch 31/100\n",
      "171/171 [==============================] - 0s 745us/step - loss: 0.1093 - accuracy: 0.9698\n",
      "Epoch 32/100\n",
      "171/171 [==============================] - 0s 757us/step - loss: 0.1083 - accuracy: 0.9709\n",
      "Epoch 33/100\n",
      "171/171 [==============================] - 0s 745us/step - loss: 0.1077 - accuracy: 0.9710\n",
      "Epoch 34/100\n",
      "171/171 [==============================] - 0s 745us/step - loss: 0.1089 - accuracy: 0.9705\n",
      "Epoch 35/100\n",
      "171/171 [==============================] - 0s 751us/step - loss: 0.1061 - accuracy: 0.9712\n",
      "Epoch 36/100\n",
      "171/171 [==============================] - 0s 739us/step - loss: 0.1068 - accuracy: 0.9705\n",
      "Epoch 37/100\n",
      "171/171 [==============================] - 0s 757us/step - loss: 0.1055 - accuracy: 0.9709\n",
      "Epoch 38/100\n",
      "171/171 [==============================] - 0s 757us/step - loss: 0.1055 - accuracy: 0.9714\n",
      "Epoch 39/100\n",
      "171/171 [==============================] - 0s 749us/step - loss: 0.1054 - accuracy: 0.9714\n",
      "Epoch 40/100\n",
      "171/171 [==============================] - 0s 751us/step - loss: 0.1039 - accuracy: 0.9709\n",
      "Epoch 41/100\n",
      "171/171 [==============================] - 0s 751us/step - loss: 0.1038 - accuracy: 0.9716\n",
      "Epoch 42/100\n",
      "171/171 [==============================] - 0s 739us/step - loss: 0.1020 - accuracy: 0.9716\n",
      "Epoch 43/100\n",
      "171/171 [==============================] - 0s 733us/step - loss: 0.1030 - accuracy: 0.9720\n",
      "Epoch 44/100\n",
      "171/171 [==============================] - 0s 751us/step - loss: 0.1021 - accuracy: 0.9712\n",
      "Epoch 45/100\n",
      "171/171 [==============================] - 0s 745us/step - loss: 0.1025 - accuracy: 0.9716\n",
      "Epoch 46/100\n",
      "171/171 [==============================] - 0s 763us/step - loss: 0.1009 - accuracy: 0.9716\n",
      "Epoch 47/100\n",
      "171/171 [==============================] - 0s 757us/step - loss: 0.0989 - accuracy: 0.9727\n",
      "Epoch 48/100\n",
      "171/171 [==============================] - 0s 751us/step - loss: 0.1000 - accuracy: 0.9714\n",
      "Epoch 49/100\n",
      "171/171 [==============================] - 0s 742us/step - loss: 0.0993 - accuracy: 0.9721\n",
      "Epoch 50/100\n",
      "171/171 [==============================] - 0s 750us/step - loss: 0.0978 - accuracy: 0.9720\n",
      "Epoch 51/100\n",
      "171/171 [==============================] - 0s 763us/step - loss: 0.0966 - accuracy: 0.9725\n",
      "Epoch 52/100\n",
      "171/171 [==============================] - 0s 764us/step - loss: 0.0994 - accuracy: 0.9720\n",
      "Epoch 53/100\n",
      "171/171 [==============================] - 0s 774us/step - loss: 0.0965 - accuracy: 0.9707\n",
      "Epoch 54/100\n",
      "171/171 [==============================] - 0s 739us/step - loss: 0.0955 - accuracy: 0.9723\n",
      "Epoch 55/100\n",
      "171/171 [==============================] - 0s 757us/step - loss: 0.0956 - accuracy: 0.9727\n",
      "Epoch 56/100\n",
      "171/171 [==============================] - 0s 757us/step - loss: 0.0950 - accuracy: 0.9723\n",
      "Epoch 57/100\n",
      "171/171 [==============================] - 0s 757us/step - loss: 0.0957 - accuracy: 0.9729\n",
      "Epoch 58/100\n",
      "171/171 [==============================] - 0s 774us/step - loss: 0.0937 - accuracy: 0.9731\n",
      "Epoch 59/100\n",
      "171/171 [==============================] - 0s 739us/step - loss: 0.0934 - accuracy: 0.9729\n",
      "Epoch 60/100\n",
      "171/171 [==============================] - 0s 749us/step - loss: 0.0946 - accuracy: 0.9716\n",
      "Epoch 61/100\n",
      "171/171 [==============================] - 0s 769us/step - loss: 0.0938 - accuracy: 0.9729\n",
      "Epoch 62/100\n",
      "171/171 [==============================] - 0s 819us/step - loss: 0.0918 - accuracy: 0.9725\n",
      "Epoch 63/100\n",
      "171/171 [==============================] - 0s 772us/step - loss: 0.0916 - accuracy: 0.9723\n",
      "Epoch 64/100\n",
      "171/171 [==============================] - 0s 761us/step - loss: 0.0912 - accuracy: 0.9729\n",
      "Epoch 65/100\n",
      "171/171 [==============================] - 0s 769us/step - loss: 0.0917 - accuracy: 0.9747\n",
      "Epoch 66/100\n",
      "171/171 [==============================] - 0s 769us/step - loss: 0.0890 - accuracy: 0.9725\n",
      "Epoch 67/100\n",
      "171/171 [==============================] - 0s 757us/step - loss: 0.0885 - accuracy: 0.9749\n",
      "Epoch 68/100\n",
      "171/171 [==============================] - 0s 774us/step - loss: 0.0886 - accuracy: 0.9734\n",
      "Epoch 69/100\n",
      "171/171 [==============================] - 0s 751us/step - loss: 0.0880 - accuracy: 0.9747\n",
      "Epoch 70/100\n",
      "171/171 [==============================] - 0s 757us/step - loss: 0.0884 - accuracy: 0.9738\n",
      "Epoch 71/100\n",
      "171/171 [==============================] - 0s 745us/step - loss: 0.0874 - accuracy: 0.9738\n",
      "Epoch 72/100\n",
      "171/171 [==============================] - 0s 761us/step - loss: 0.0881 - accuracy: 0.9725\n",
      "Epoch 73/100\n",
      "171/171 [==============================] - 0s 751us/step - loss: 0.0847 - accuracy: 0.9740\n",
      "Epoch 74/100\n",
      "171/171 [==============================] - 0s 745us/step - loss: 0.0856 - accuracy: 0.9734\n",
      "Epoch 75/100\n",
      "171/171 [==============================] - 0s 779us/step - loss: 0.0858 - accuracy: 0.9738\n",
      "Epoch 76/100\n",
      "171/171 [==============================] - 0s 757us/step - loss: 0.0841 - accuracy: 0.9749\n",
      "Epoch 77/100\n",
      "171/171 [==============================] - 0s 780us/step - loss: 0.0837 - accuracy: 0.9754\n",
      "Epoch 78/100\n",
      "171/171 [==============================] - 0s 845us/step - loss: 0.0836 - accuracy: 0.9738\n",
      "Epoch 79/100\n"
     ]
    },
    {
     "name": "stdout",
     "output_type": "stream",
     "text": [
      "171/171 [==============================] - 0s 739us/step - loss: 0.0823 - accuracy: 0.9760\n",
      "Epoch 80/100\n",
      "171/171 [==============================] - 0s 733us/step - loss: 0.0808 - accuracy: 0.9765\n",
      "Epoch 81/100\n",
      "171/171 [==============================] - 0s 727us/step - loss: 0.0824 - accuracy: 0.9760\n",
      "Epoch 82/100\n",
      "171/171 [==============================] - 0s 833us/step - loss: 0.0813 - accuracy: 0.9751\n",
      "Epoch 83/100\n",
      "171/171 [==============================] - 0s 926us/step - loss: 0.0805 - accuracy: 0.9771\n",
      "Epoch 84/100\n",
      "171/171 [==============================] - 0s 945us/step - loss: 0.0812 - accuracy: 0.9765\n",
      "Epoch 85/100\n",
      "171/171 [==============================] - 0s 932us/step - loss: 0.0804 - accuracy: 0.9751\n",
      "Epoch 86/100\n",
      "171/171 [==============================] - 0s 704us/step - loss: 0.0792 - accuracy: 0.9767\n",
      "Epoch 87/100\n",
      "171/171 [==============================] - 0s 710us/step - loss: 0.0800 - accuracy: 0.9756\n",
      "Epoch 88/100\n",
      "171/171 [==============================] - 0s 716us/step - loss: 0.0773 - accuracy: 0.9764\n",
      "Epoch 89/100\n",
      "171/171 [==============================] - 0s 716us/step - loss: 0.0774 - accuracy: 0.9758\n",
      "Epoch 90/100\n",
      "171/171 [==============================] - 0s 733us/step - loss: 0.0770 - accuracy: 0.9773\n",
      "Epoch 91/100\n",
      "171/171 [==============================] - 0s 733us/step - loss: 0.0762 - accuracy: 0.9775\n",
      "Epoch 92/100\n",
      "171/171 [==============================] - 0s 745us/step - loss: 0.0759 - accuracy: 0.9769\n",
      "Epoch 93/100\n",
      "171/171 [==============================] - 0s 739us/step - loss: 0.0766 - accuracy: 0.9776\n",
      "Epoch 94/100\n",
      "171/171 [==============================] - 0s 722us/step - loss: 0.0753 - accuracy: 0.9758\n",
      "Epoch 95/100\n",
      "171/171 [==============================] - 0s 745us/step - loss: 0.0765 - accuracy: 0.9767\n",
      "Epoch 96/100\n",
      "171/171 [==============================] - 0s 737us/step - loss: 0.0771 - accuracy: 0.9773\n",
      "Epoch 97/100\n",
      "171/171 [==============================] - 0s 744us/step - loss: 0.0750 - accuracy: 0.9773\n",
      "Epoch 98/100\n",
      "171/171 [==============================] - 0s 716us/step - loss: 0.0768 - accuracy: 0.9769\n",
      "Epoch 99/100\n",
      "171/171 [==============================] - 0s 727us/step - loss: 0.0733 - accuracy: 0.9776\n",
      "Epoch 100/100\n",
      "171/171 [==============================] - 0s 727us/step - loss: 0.0732 - accuracy: 0.9771\n"
     ]
    },
    {
     "data": {
      "text/plain": [
       "<keras.callbacks.History at 0x23602f1ddf0>"
      ]
     },
     "execution_count": 47,
     "metadata": {},
     "output_type": "execute_result"
    }
   ],
   "source": [
    "# Train the model\n",
    "model.fit(X_train, y_train, epochs=100)"
   ]
  },
  {
   "cell_type": "code",
   "execution_count": 58,
   "id": "4ea4c7bb",
   "metadata": {},
   "outputs": [
    {
     "name": "stdout",
     "output_type": "stream",
     "text": [
      "171/171 - 0s - loss: 0.0694 - accuracy: 0.9762 - 87ms/epoch - 507us/step\n"
     ]
    },
    {
     "data": {
      "text/html": [
       "<div>\n",
       "<style scoped>\n",
       "    .dataframe tbody tr th:only-of-type {\n",
       "        vertical-align: middle;\n",
       "    }\n",
       "\n",
       "    .dataframe tbody tr th {\n",
       "        vertical-align: top;\n",
       "    }\n",
       "\n",
       "    .dataframe thead th {\n",
       "        text-align: right;\n",
       "    }\n",
       "</style>\n",
       "<table border=\"1\" class=\"dataframe\">\n",
       "  <thead>\n",
       "    <tr style=\"text-align: right;\">\n",
       "      <th></th>\n",
       "      <th>Train_Accuracy</th>\n",
       "    </tr>\n",
       "  </thead>\n",
       "  <tbody>\n",
       "    <tr>\n",
       "      <th>Neural Network</th>\n",
       "      <td>0.976169</td>\n",
       "    </tr>\n",
       "  </tbody>\n",
       "</table>\n",
       "</div>"
      ],
      "text/plain": [
       "                Train_Accuracy\n",
       "Neural Network        0.976169"
      ]
     },
     "execution_count": 58,
     "metadata": {},
     "output_type": "execute_result"
    }
   ],
   "source": [
    "# Model Evaluation Train\n",
    "train_result = model.evaluate(X_train,  y_train, verbose=2)\n",
    "\n",
    "train_eval = pd.DataFrame({\"Train_Accuracy\":train_result[1]}, index = ['Neural Network'])\n",
    "train_eval"
   ]
  },
  {
   "cell_type": "code",
   "execution_count": 59,
   "id": "fabd6eb5",
   "metadata": {},
   "outputs": [
    {
     "name": "stdout",
     "output_type": "stream",
     "text": [
      "43/43 - 0s - loss: 0.2164 - accuracy: 0.9619 - 33ms/epoch - 758us/step\n"
     ]
    },
    {
     "data": {
      "text/html": [
       "<div>\n",
       "<style scoped>\n",
       "    .dataframe tbody tr th:only-of-type {\n",
       "        vertical-align: middle;\n",
       "    }\n",
       "\n",
       "    .dataframe tbody tr th {\n",
       "        vertical-align: top;\n",
       "    }\n",
       "\n",
       "    .dataframe thead th {\n",
       "        text-align: right;\n",
       "    }\n",
       "</style>\n",
       "<table border=\"1\" class=\"dataframe\">\n",
       "  <thead>\n",
       "    <tr style=\"text-align: right;\">\n",
       "      <th></th>\n",
       "      <th>Test_Accuracy</th>\n",
       "    </tr>\n",
       "  </thead>\n",
       "  <tbody>\n",
       "    <tr>\n",
       "      <th>Neural Network</th>\n",
       "      <td>0.961877</td>\n",
       "    </tr>\n",
       "  </tbody>\n",
       "</table>\n",
       "</div>"
      ],
      "text/plain": [
       "                Test_Accuracy\n",
       "Neural Network       0.961877"
      ]
     },
     "execution_count": 59,
     "metadata": {},
     "output_type": "execute_result"
    }
   ],
   "source": [
    "# Model Evaluation Test\n",
    "test_result = model.evaluate(X_test,  y_test, verbose=2)\n",
    "\n",
    "#set into df\n",
    "test_eval = pd.DataFrame({\"Test_Accuracy\":test_result[1]}, index = ['Neural Network'])\n",
    "test_eval"
   ]
  },
  {
   "cell_type": "markdown",
   "id": "5ad91835",
   "metadata": {},
   "source": [
    "### Q4: Build Other 5 Classification models and compare"
   ]
  },
  {
   "cell_type": "code",
   "execution_count": 69,
   "id": "4a7acce0",
   "metadata": {},
   "outputs": [],
   "source": [
    "#Models\n",
    "\n",
    "logistic      = LogisticRegression()\n",
    "decision_tree = DecisionTreeClassifier()\n",
    "neural_net    = MLPClassifier()\n",
    "random_forest = RandomForestClassifier(n_estimators =500)\n",
    "KNN           = KNeighborsClassifier()\n",
    "\n",
    "models = {\n",
    "          \"logistic\"      : logistic,\n",
    "          \"decision_tree\" : decision_tree,\n",
    "          \"random_forest\" : random_forest,\n",
    "          \"neural_net\"    : neural_net,\n",
    "          \"KNN\"           : KNN\n",
    "         }"
   ]
  },
  {
   "cell_type": "code",
   "execution_count": 70,
   "id": "815e07f2",
   "metadata": {},
   "outputs": [
    {
     "name": "stderr",
     "output_type": "stream",
     "text": [
      "c:\\users\\saisu\\lib\\site-packages\\sklearn\\linear_model\\_logistic.py:814: ConvergenceWarning: lbfgs failed to converge (status=1):\n",
      "STOP: TOTAL NO. of ITERATIONS REACHED LIMIT.\n",
      "\n",
      "Increase the number of iterations (max_iter) or scale the data as shown in:\n",
      "    https://scikit-learn.org/stable/modules/preprocessing.html\n",
      "Please also refer to the documentation for alternative solver options:\n",
      "    https://scikit-learn.org/stable/modules/linear_model.html#logistic-regression\n",
      "  n_iter_i = _check_optimize_result(\n"
     ]
    },
    {
     "name": "stdout",
     "output_type": "stream",
     "text": [
      "logistic     has been trained successfully\n",
      "decision_tree     has been trained successfully\n",
      "random_forest     has been trained successfully\n",
      "neural_net     has been trained successfully\n",
      "KNN     has been trained successfully\n"
     ]
    }
   ],
   "source": [
    "for model in models:\n",
    "    random.seed=1\n",
    "    models[model].fit(X_train, y_train.values.ravel())\n",
    "    print(f\"{model}     has been trained successfully\")"
   ]
  },
  {
   "cell_type": "markdown",
   "id": "d5eb4f7b",
   "metadata": {},
   "source": [
    "## TRAIN EVALUATION"
   ]
  },
  {
   "cell_type": "code",
   "execution_count": 74,
   "id": "2079bb7b",
   "metadata": {},
   "outputs": [],
   "source": [
    "#Test Evaluation\n",
    "performances = {}\n",
    "\n",
    "for model in models:\n",
    "    predictions   = models[model].predict(X_train)\n",
    "    accuracy      = accuracy_score(y_train, predictions)\n",
    "    performances[model] = {\"Train_Accuracy\":accuracy}\n",
    "\n",
    "train_eval_models = pd.DataFrame(performances).transpose()"
   ]
  },
  {
   "cell_type": "markdown",
   "id": "dcb3c3ae",
   "metadata": {},
   "source": [
    "## TEST EVALUATION"
   ]
  },
  {
   "cell_type": "code",
   "execution_count": 73,
   "id": "93bebe23",
   "metadata": {},
   "outputs": [],
   "source": [
    "# Test Evaluation\n",
    "performances = {}\n",
    "\n",
    "for model in models:\n",
    "    random.seed=1\n",
    "    predictions   = models[model].predict(X_test)\n",
    "    accuracy      = accuracy_score(y_test, predictions)\n",
    "    performances[model] = {\"Test_Accuracy\":accuracy}\n",
    "\n",
    "test_eval_models = pd.DataFrame(performances).transpose()"
   ]
  },
  {
   "cell_type": "code",
   "execution_count": 76,
   "id": "c05b6bb7",
   "metadata": {},
   "outputs": [],
   "source": [
    "#Compare Train and Test\n",
    "eval_merged = train_eval_models.merge(test_eval_models, left_index=True, right_index=True)"
   ]
  },
  {
   "cell_type": "markdown",
   "id": "0b813af8",
   "metadata": {},
   "source": [
    "## COMPARING ALL THE MODELS PERFORMANCE"
   ]
  },
  {
   "cell_type": "code",
   "execution_count": 77,
   "id": "ca7fd7ee",
   "metadata": {},
   "outputs": [
    {
     "data": {
      "text/html": [
       "<div>\n",
       "<style scoped>\n",
       "    .dataframe tbody tr th:only-of-type {\n",
       "        vertical-align: middle;\n",
       "    }\n",
       "\n",
       "    .dataframe tbody tr th {\n",
       "        vertical-align: top;\n",
       "    }\n",
       "\n",
       "    .dataframe thead th {\n",
       "        text-align: right;\n",
       "    }\n",
       "</style>\n",
       "<table border=\"1\" class=\"dataframe\">\n",
       "  <thead>\n",
       "    <tr style=\"text-align: right;\">\n",
       "      <th></th>\n",
       "      <th>Train_Accuracy</th>\n",
       "      <th>Test_Accuracy</th>\n",
       "    </tr>\n",
       "  </thead>\n",
       "  <tbody>\n",
       "    <tr>\n",
       "      <th>KNN</th>\n",
       "      <td>0.969386</td>\n",
       "      <td>0.968475</td>\n",
       "    </tr>\n",
       "    <tr>\n",
       "      <th>random_forest</th>\n",
       "      <td>1.000000</td>\n",
       "      <td>0.965543</td>\n",
       "    </tr>\n",
       "    <tr>\n",
       "      <th>logistic</th>\n",
       "      <td>0.962603</td>\n",
       "      <td>0.963343</td>\n",
       "    </tr>\n",
       "    <tr>\n",
       "      <th>decision_tree</th>\n",
       "      <td>1.000000</td>\n",
       "      <td>0.950147</td>\n",
       "    </tr>\n",
       "    <tr>\n",
       "      <th>neural_net</th>\n",
       "      <td>0.964436</td>\n",
       "      <td>0.948680</td>\n",
       "    </tr>\n",
       "    <tr>\n",
       "      <th>Neural Network</th>\n",
       "      <td>0.976169</td>\n",
       "      <td>NaN</td>\n",
       "    </tr>\n",
       "  </tbody>\n",
       "</table>\n",
       "</div>"
      ],
      "text/plain": [
       "                Train_Accuracy  Test_Accuracy\n",
       "KNN                   0.969386       0.968475\n",
       "random_forest         1.000000       0.965543\n",
       "logistic              0.962603       0.963343\n",
       "decision_tree         1.000000       0.950147\n",
       "neural_net            0.964436       0.948680\n",
       "Neural Network        0.976169            NaN"
      ]
     },
     "execution_count": 77,
     "metadata": {},
     "output_type": "execute_result"
    }
   ],
   "source": [
    "eval_merged.append(train_eval).sort_values(by=\"Test_Accuracy\", ascending=False)"
   ]
  },
  {
   "cell_type": "code",
   "execution_count": null,
   "id": "77780088",
   "metadata": {},
   "outputs": [],
   "source": []
  },
  {
   "cell_type": "code",
   "execution_count": null,
   "id": "ec03a113",
   "metadata": {},
   "outputs": [],
   "source": []
  },
  {
   "cell_type": "code",
   "execution_count": null,
   "id": "f138053e",
   "metadata": {},
   "outputs": [],
   "source": []
  }
 ],
 "metadata": {
  "kernelspec": {
   "display_name": "Python 3 (ipykernel)",
   "language": "python",
   "name": "python3"
  },
  "language_info": {
   "codemirror_mode": {
    "name": "ipython",
    "version": 3
   },
   "file_extension": ".py",
   "mimetype": "text/x-python",
   "name": "python",
   "nbconvert_exporter": "python",
   "pygments_lexer": "ipython3",
   "version": "3.9.5"
  }
 },
 "nbformat": 4,
 "nbformat_minor": 5
}
