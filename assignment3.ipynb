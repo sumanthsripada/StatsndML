{
 "cells": [
  {
   "cell_type": "markdown",
   "metadata": {},
   "source": [
    "# Assignment 3 "
   ]
  },
  {
   "cell_type": "markdown",
   "metadata": {},
   "source": [
    "## Chapter 5"
   ]
  },
  {
   "cell_type": "markdown",
   "metadata": {},
   "source": [
    "# ex : 3 \n",
    "\n",
    "(a) Explain how k-fold cross-validation is implemented.\n",
    "\n",
    " - in K-Fold cross validation approach set of observations are randomly divided into k groups or folds of equal size.\n",
    " - the first fold will be a validation set and the method is fit on the remaining k-1 folds.\n",
    " - Mean Squared error MES1 is computed with the first fold  and the same is repeated k times for the number of folds.\n",
    " - the k estimates will be MES1, MES2  till MESk\n",
    " - Average of all the estimates will be taken to compute the k-fold CV estimate.\n",
    " "
   ]
  },
  {
   "cell_type": "markdown",
   "metadata": {},
   "source": [
    "(b) What are the advantages and disadvantages of k-fold crossvalidation\n",
    "relative to:\n",
    "(i) The validation set approach?\n",
    "(ii). LOOCV?\n",
    "\n",
    "- Validation Set approach is highly variable and comapred to it k-fold is much better but latency is more in Kfold\n",
    "- LOOCV is computationally intensive for larger data hence for smaller samples it might be better"
   ]
  },
  {
   "cell_type": "markdown",
   "metadata": {},
   "source": [
    "# ex: 8 \n",
    "\n",
    "In this data set, what is n and what is p? Write out the model\n",
    "used to generate the data in equation form."
   ]
  },
  {
   "cell_type": "code",
   "execution_count": 2,
   "metadata": {},
   "outputs": [],
   "source": [
    "#part a\n",
    "set.seed(1)\n",
    "x <- rnorm(100)\n",
    "y <- x - 2*x^2 + rnorm(100)"
   ]
  },
  {
   "cell_type": "code",
   "execution_count": 3,
   "metadata": {},
   "outputs": [
    {
     "data": {
      "image/png": "[encoded data removed]",
      "text/plain": [
       "plot without title"
      ]
     },
     "metadata": {},
     "output_type": "display_data"
    }
   ],
   "source": [
    "# part b \n",
    "plot(x,y)"
   ]
  },
  {
   "cell_type": "markdown",
   "metadata": {},
   "source": [
    " \n",
    "(c) Set a random seed, and then compute the LOOCV errors that\n",
    "result from fitting the following four models using least squares:"
   ]
  },
  {
   "cell_type": "code",
   "execution_count": 14,
   "metadata": {},
   "outputs": [
    {
     "data": {
      "text/html": [
       "<ol>\n",
       "\t<li>7.28816160667281</li>\n",
       "\t<li>0.937423637615551</li>\n",
       "\t<li>0.956621830108939</li>\n",
       "\t<li>0.953904892744803</li>\n",
       "</ol>\n"
      ],
      "text/latex": [
       "\\begin{enumerate}\n",
       "\\item 7.28816160667281\n",
       "\\item 0.937423637615551\n",
       "\\item 0.956621830108939\n",
       "\\item 0.953904892744803\n",
       "\\end{enumerate}\n"
      ],
      "text/markdown": [
       "1. 7.28816160667281\n",
       "2. 0.937423637615551\n",
       "3. 0.956621830108939\n",
       "4. 0.953904892744803\n",
       "\n",
       "\n"
      ],
      "text/plain": [
       "[[1]]\n",
       "[1] 7.288162\n",
       "\n",
       "[[2]]\n",
       "[1] 0.9374236\n",
       "\n",
       "[[3]]\n",
       "[1] 0.9566218\n",
       "\n",
       "[[4]]\n",
       "[1] 0.9539049\n"
      ]
     },
     "metadata": {},
     "output_type": "display_data"
    }
   ],
   "source": [
    "library(boot)\n",
    "data <- data.frame(x,y)\n",
    "loocv_err <- list()\n",
    "set.seed(42)\n",
    "for (i in 1:4) {\n",
    "    glm.fit  <- glm(y ~ poly(x,i),data = data)\n",
    "    cv.err <- cv.glm(data ,glm.fit)\n",
    "    \n",
    "    loocv_err[i] <- cv.err$delta[1]\n",
    "}\n",
    "loocv_err"
   ]
  },
  {
   "cell_type": "markdown",
   "metadata": {},
   "source": [
    "(d) Repeat (c) using another random seed, and report your results.\n",
    "Are your results the same as what you got in (c)? Why?"
   ]
  },
  {
   "cell_type": "code",
   "execution_count": 15,
   "metadata": {},
   "outputs": [
    {
     "data": {
      "text/html": [
       "<ol>\n",
       "\t<li>7.28816160667281</li>\n",
       "\t<li>0.937423637615552</li>\n",
       "\t<li>0.95662183010894</li>\n",
       "\t<li>0.953904892744804</li>\n",
       "</ol>\n"
      ],
      "text/latex": [
       "\\begin{enumerate}\n",
       "\\item 7.28816160667281\n",
       "\\item 0.937423637615552\n",
       "\\item 0.95662183010894\n",
       "\\item 0.953904892744804\n",
       "\\end{enumerate}\n"
      ],
      "text/markdown": [
       "1. 7.28816160667281\n",
       "2. 0.937423637615552\n",
       "3. 0.95662183010894\n",
       "4. 0.953904892744804\n",
       "\n",
       "\n"
      ],
      "text/plain": [
       "[[1]]\n",
       "[1] 7.288162\n",
       "\n",
       "[[2]]\n",
       "[1] 0.9374236\n",
       "\n",
       "[[3]]\n",
       "[1] 0.9566218\n",
       "\n",
       "[[4]]\n",
       "[1] 0.9539049\n"
      ]
     },
     "metadata": {},
     "output_type": "display_data"
    }
   ],
   "source": [
    "library(boot)\n",
    "data <- data.frame(x,y)\n",
    "loocv_err <- list()\n",
    "set.seed(43)\n",
    "for (i in 1:4) {\n",
    "    glm.fit  <- glm(y ~ poly(x,i),data = data)\n",
    "    cv.err <- cv.glm(data ,glm.fit)\n",
    "    \n",
    "    loocv_err[i] <- cv.err$delta[1]\n",
    "}\n",
    "loocv_err\n",
    "\n",
    "#Results are almost identical in both the cases "
   ]
  },
  {
   "cell_type": "markdown",
   "metadata": {},
   "source": [
    "(e) Which of the models in (c) had the smallest LOOCV error? Is\n",
    "this what you expected? Explain your answer.\n",
    "\n",
    "- The Second Polynomial has the smallest LOOCV as its a polynomial with degree 2"
   ]
  },
  {
   "cell_type": "markdown",
   "metadata": {},
   "source": [
    "(f) Comment on the statistical significance of the coefficient estimates\n",
    "that results from fitting each of the models in (c) using\n",
    "least squares. Do these results agree with the conclusions drawn\n",
    "based on the cross-validation results?"
   ]
  },
  {
   "cell_type": "code",
   "execution_count": 16,
   "metadata": {},
   "outputs": [
    {
     "data": {
      "text/plain": [
       "\n",
       "Call:\n",
       "glm(formula = y ~ poly(x, i), data = data)\n",
       "\n",
       "Deviance Residuals: \n",
       "    Min       1Q   Median       3Q      Max  \n",
       "-2.0550  -0.6212  -0.1567   0.5952   2.2267  \n",
       "\n",
       "Coefficients:\n",
       "             Estimate Std. Error t value Pr(>|t|)    \n",
       "(Intercept)  -1.55002    0.09591 -16.162  < 2e-16 ***\n",
       "poly(x, i)1   6.18883    0.95905   6.453 4.59e-09 ***\n",
       "poly(x, i)2 -23.94830    0.95905 -24.971  < 2e-16 ***\n",
       "poly(x, i)3   0.26411    0.95905   0.275    0.784    \n",
       "poly(x, i)4   1.25710    0.95905   1.311    0.193    \n",
       "---\n",
       "Signif. codes:  0 '***' 0.001 '**' 0.01 '*' 0.05 '.' 0.1 ' ' 1\n",
       "\n",
       "(Dispersion parameter for gaussian family taken to be 0.9197797)\n",
       "\n",
       "    Null deviance: 700.852  on 99  degrees of freedom\n",
       "Residual deviance:  87.379  on 95  degrees of freedom\n",
       "AIC: 282.3\n",
       "\n",
       "Number of Fisher Scoring iterations: 2\n"
      ]
     },
     "metadata": {},
     "output_type": "display_data"
    }
   ],
   "source": [
    "summary(glm.fit)"
   ]
  },
  {
   "cell_type": "markdown",
   "metadata": {},
   "source": [
    "- polynomial of defgree 1 and 2 are quite significant."
   ]
  },
  {
   "cell_type": "markdown",
   "metadata": {},
   "source": [
    "# Chapter 6"
   ]
  },
  {
   "cell_type": "markdown",
   "metadata": {},
   "source": [
    "# Ex: 1\n",
    "#a)\n",
    "-  Best subset selection has the smallest training RSS\n",
    "\n",
    "#b)\n",
    "-  its uncertain to select which model has the smallest RSS\n",
    "\n",
    "#c) \n",
    "i)   T\n",
    "ii)  T\n",
    "iii) F\n",
    "iv)  F\n",
    "v)   F"
   ]
  },
  {
   "cell_type": "markdown",
   "metadata": {},
   "source": [
    "# Ex : 9"
   ]
  },
  {
   "cell_type": "code",
   "execution_count": 21,
   "metadata": {},
   "outputs": [],
   "source": [
    "library(ISLR)\n",
    "data(College)\n",
    "set.seed(42)\n",
    "\n",
    "train = sample(1:dim(College)[1], dim(College)[1]/2)\n",
    "test <- -train\n",
    "train_df <- College[train,]\n",
    "test_df <- College[test,]"
   ]
  },
  {
   "cell_type": "code",
   "execution_count": 22,
   "metadata": {},
   "outputs": [
    {
     "data": {
      "text/html": [
       "1341776.21876624"
      ],
      "text/latex": [
       "1341776.21876624"
      ],
      "text/markdown": [
       "1341776.21876624"
      ],
      "text/plain": [
       "[1] 1341776"
      ]
     },
     "metadata": {},
     "output_type": "display_data"
    }
   ],
   "source": [
    "#b) \n",
    "\n",
    "lm.fit <- lm(Apps ~ ., data = train_df)\n",
    "lm_pred <- predict(lm.fit,test_df)\n",
    "mean((lm_pred - test_df$Apps)^2)"
   ]
  },
  {
   "cell_type": "code",
   "execution_count": 24,
   "metadata": {},
   "outputs": [
    {
     "name": "stderr",
     "output_type": "stream",
     "text": [
      "Your code contains a unicode char which cannot be displayed in your\n",
      "current locale and R will silently convert it to an escaped form when the\n",
      "R kernel executes this code. This can lead to subtle errors if you use\n",
      "such chars to do comparisons. For more information, please see\n",
      "https://github.com/IRkernel/repr/wiki/Problems-with-unicode-on-windows"
     ]
    },
    {
     "data": {
      "text/html": [
       "1462449.18928343"
      ],
      "text/latex": [
       "1462449.18928343"
      ],
      "text/markdown": [
       "1462449.18928343"
      ],
      "text/plain": [
       "[1] 1462449"
      ]
     },
     "metadata": {},
     "output_type": "display_data"
    }
   ],
   "source": [
    "#c) Fit a ridge regression model on the training set, with λ chosen by cross-validation. Report the test error obtained\n",
    "\n",
    "library(\"glmnet\")\n",
    "train <- model.matrix(Apps ~ ., data = train_df)\n",
    "test <- model.matrix(Apps ~ ., data = test_df)\n",
    "\n",
    "grid <- 10 ^seq(4 , -2 , length = 100)\n",
    "ridge <- glmnet(train ,train_df$Apps , alpha = 0 , lambda =  grid, thresh =  1e-12)\n",
    "ridge_cv <- cv.glmnet(train,train_df$Apps, alpha = 0, lambda = grid , thresh = 1e-12)\n",
    "\n",
    "#best lambda by cv\n",
    "\n",
    "lambda_best <- ridge_cv$lambda.min\n",
    "\n",
    "#\n",
    "ridge_pred <- predict(ridge, s = lambda_best ,newx = test)\n",
    "mean((ridge_pred - test_df$Apps)^2)\n"
   ]
  },
  {
   "cell_type": "code",
   "execution_count": 25,
   "metadata": {},
   "outputs": [
    {
     "data": {
      "text/html": [
       "1410192.64948203"
      ],
      "text/latex": [
       "1410192.64948203"
      ],
      "text/markdown": [
       "1410192.64948203"
      ],
      "text/plain": [
       "[1] 1410193"
      ]
     },
     "metadata": {},
     "output_type": "display_data"
    }
   ],
   "source": [
    "#d  - LASSO\n",
    "lasso <- glmnet(train ,train_df$Apps , alpha = 1 , lambda =  grid, thresh =  1e-12)\n",
    "lasso_cv <- cv.glmnet(train,train_df$Apps, alpha = 1, lambda = grid , thresh = 1e-12)\n",
    "\n",
    "#best lambda by cv\n",
    "\n",
    "lambda_best <- lasso_cv$lambda.min\n",
    "\n",
    "#\n",
    "lasso_pred <- predict(lasso, s = lambda_best ,newx = test)\n",
    "mean((lasso_pred - test_df$Apps)^2)\n"
   ]
  },
  {
   "cell_type": "markdown",
   "metadata": {},
   "source": [
    "\n",
    "(e) Fit a PCR model on the training set, with M chosen by crossvalidation. Report the test error obtained, along with the value\n",
    "of M selected by cross-validation"
   ]
  },
  {
   "cell_type": "code",
   "execution_count": 27,
   "metadata": {},
   "outputs": [
    {
     "data": {
      "text/html": [
       "2802273.90995399"
      ],
      "text/latex": [
       "2802273.90995399"
      ],
      "text/markdown": [
       "2802273.90995399"
      ],
      "text/plain": [
       "[1] 2802274"
      ]
     },
     "metadata": {},
     "output_type": "display_data"
    },
    {
     "data": {
      "image/png": "[encoded data removed]",
      "text/plain": [
       "Plot with title \"Apps\""
      ]
     },
     "metadata": {},
     "output_type": "display_data"
    }
   ],
   "source": [
    "library(\"pls\")\n",
    "pcr <- pcr(Apps ~ ., data = train_df , scale = TRUE ,validation =\"CV\")\n",
    "validationplot(pcr , val.type = 'MSEP')\n",
    "pcr_pred  <- predict(pcr , test_df , ncomp = 10)\n",
    "mean((pcr_pred - test_df$Apps)^2)"
   ]
  },
  {
   "cell_type": "markdown",
   "metadata": {},
   "source": [
    "(f) Fit a PLS model on the training set, with M chosen by crossvalidation. Report the test error obtained, along with the value\n",
    "of M selected by cross-validation."
   ]
  },
  {
   "cell_type": "code",
   "execution_count": 30,
   "metadata": {},
   "outputs": [
    {
     "data": {
      "text/html": [
       "1539488.7783521"
      ],
      "text/latex": [
       "1539488.7783521"
      ],
      "text/markdown": [
       "1539488.7783521"
      ],
      "text/plain": [
       "[1] 1539489"
      ]
     },
     "metadata": {},
     "output_type": "display_data"
    },
    {
     "data": {
      "image/png": "[encoded data removed]",
      "text/plain": [
       "Plot with title \"Apps\""
      ]
     },
     "metadata": {},
     "output_type": "display_data"
    }
   ],
   "source": [
    "pls <- plsr(Apps ~ ., data = train_df , scale = TRUE ,validation =\"CV\")\n",
    "validationplot(pcr , val.type = 'MSEP')\n",
    "pls_pred  <- predict(pls , test_df , ncomp = 6)\n",
    "mean((pls_pred - test_df$Apps)^2)"
   ]
  },
  {
   "cell_type": "code",
   "execution_count": null,
   "metadata": {},
   "outputs": [],
   "source": []
  }
 ],
 "metadata": {
  "interpreter": {
   "hash": "81e0b57edd17c3833f38e5d4db6db81e2c0f982e51ee4890d9e870805c7d8a75"
  },
  "kernelspec": {
   "display_name": "R",
   "language": "R",
   "name": "python3812jvsc74a57bd0a707b6ce8c685eb936424fcc3009d4b4b7a52543c4db09380a3fc49186ceb509"
  },
  "language_info": {
   "codemirror_mode": "r",
   "file_extension": ".r",
   "mimetype": "text/x-r-source",
   "name": "R",
   "pygments_lexer": "r",
   "version": "3.6.1"
  },
  "orig_nbformat": 4
 },
 "nbformat": 4,
 "nbformat_minor": 2
}
